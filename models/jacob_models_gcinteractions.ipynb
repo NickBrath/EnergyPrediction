{
 "cells": [
  {
   "cell_type": "code",
   "execution_count": 1,
   "id": "f1076578",
   "metadata": {},
   "outputs": [],
   "source": [
    "# General\n",
    "import pandas as pd\n",
    "import numpy as np\n",
    "import matplotlib.pyplot as plt\n",
    "import seaborn as sns\n",
    "#import graphviz\n",
    "import time\n",
    "import os\n",
    "\n",
    "# Sklearn\n",
    "from sklearn import preprocessing\n",
    "from sklearn.metrics import mean_absolute_error\n",
    "from sklearn.metrics import mean_squared_error\n",
    "from sklearn.model_selection import GridSearchCV\n",
    "from sklearn.linear_model import LinearRegression\n",
    "from sklearn.linear_model import Ridge\n",
    "from sklearn.linear_model import Lasso\n",
    "from sklearn.tree import export_graphviz, DecisionTreeRegressor\n",
    "from sklearn.ensemble import RandomForestRegressor\n",
    "from sklearn.ensemble import GradientBoostingRegressor\n",
    "\n",
    "# Tensorflow/Keras\n",
    "import tensorflow as tf"
   ]
  },
  {
   "cell_type": "markdown",
   "id": "54f080a3",
   "metadata": {},
   "source": [
    "# Load Data"
   ]
  },
  {
   "cell_type": "code",
   "execution_count": 2,
   "id": "3ed3a31b",
   "metadata": {},
   "outputs": [],
   "source": [
    "# Load data\n",
    "train_df = pd.read_csv(\"../processed_data/train_df.csv\")\n",
    "train_df['DATE_TIME']= pd.to_datetime(train_df['DATE_TIME'],format='%Y-%m-%d %H:%M:%S')\n",
    "\n",
    "# These were exported to train_df.csv\n",
    "train_df[\"HOUR\"] = train_df['DATE_TIME'].dt.hour\n",
    "train_df.dropna(inplace=True)\n",
    "train_df.reset_index(drop=True, inplace=True)\n",
    "\n",
    "test_df = pd.read_csv(\"../processed_data/test_df.csv\")\n",
    "test_df['DATE_TIME']= pd.to_datetime(test_df['DATE_TIME'],format='%Y-%m-%d %H:%M:%S')\n",
    "\n",
    "#These were exported to test_df.csv\n",
    "test_df[\"HOUR\"] = test_df['DATE_TIME'].dt.hour\n",
    "test_df.dropna(inplace=True)\n",
    "test_df.reset_index(drop=True, inplace=True)\n",
    "\n",
    "mae_results = {}\n",
    "rmse_results = {}\n",
    "\n",
    "test_df=test_df.dropna()\n",
    "train_df=train_df.dropna()\n"
   ]
  },
  {
   "cell_type": "code",
   "execution_count": 3,
   "id": "5c2d4e79",
   "metadata": {},
   "outputs": [
    {
     "data": {
      "text/html": [
       "<div>\n",
       "<style scoped>\n",
       "    .dataframe tbody tr th:only-of-type {\n",
       "        vertical-align: middle;\n",
       "    }\n",
       "\n",
       "    .dataframe tbody tr th {\n",
       "        vertical-align: top;\n",
       "    }\n",
       "\n",
       "    .dataframe thead th {\n",
       "        text-align: right;\n",
       "    }\n",
       "</style>\n",
       "<table border=\"1\" class=\"dataframe\">\n",
       "  <thead>\n",
       "    <tr style=\"text-align: right;\">\n",
       "      <th></th>\n",
       "      <th>DATE_TIME</th>\n",
       "      <th>PLANT_ID</th>\n",
       "      <th>SOURCE_KEY</th>\n",
       "      <th>DC_POWER</th>\n",
       "      <th>AC_POWER</th>\n",
       "      <th>DAILY_YIELD</th>\n",
       "      <th>TOTAL_YIELD</th>\n",
       "      <th>AMBIENT_TEMPERATURE</th>\n",
       "      <th>MODULE_TEMPERATURE</th>\n",
       "      <th>IRRADIATION</th>\n",
       "      <th>WEATHER_SOURCE</th>\n",
       "      <th>DATE</th>\n",
       "      <th>TIME</th>\n",
       "      <th>is_daytime</th>\n",
       "      <th>yesterday_max_daily_yield</th>\n",
       "      <th>HOUR</th>\n",
       "    </tr>\n",
       "  </thead>\n",
       "  <tbody>\n",
       "    <tr>\n",
       "      <th>0</th>\n",
       "      <td>2020-06-12 02:30:00</td>\n",
       "      <td>4136001</td>\n",
       "      <td>LYwnQax7tkwH5Cb</td>\n",
       "      <td>0.000000</td>\n",
       "      <td>0.000000</td>\n",
       "      <td>3718.000000</td>\n",
       "      <td>1.795083e+09</td>\n",
       "      <td>22.610987</td>\n",
       "      <td>22.146187</td>\n",
       "      <td>0.000000</td>\n",
       "      <td>iq8k7ZNt4Mwm3w0</td>\n",
       "      <td>2020-06-12</td>\n",
       "      <td>02:30:00</td>\n",
       "      <td>0</td>\n",
       "      <td>3718.0</td>\n",
       "      <td>2</td>\n",
       "    </tr>\n",
       "    <tr>\n",
       "      <th>1</th>\n",
       "      <td>2020-06-12 23:45:00</td>\n",
       "      <td>4136001</td>\n",
       "      <td>xoJJ8DcxJEcupym</td>\n",
       "      <td>0.000000</td>\n",
       "      <td>0.000000</td>\n",
       "      <td>4788.000000</td>\n",
       "      <td>2.093055e+08</td>\n",
       "      <td>23.099230</td>\n",
       "      <td>22.757666</td>\n",
       "      <td>0.000000</td>\n",
       "      <td>iq8k7ZNt4Mwm3w0</td>\n",
       "      <td>2020-06-12</td>\n",
       "      <td>23:45:00</td>\n",
       "      <td>0</td>\n",
       "      <td>3971.0</td>\n",
       "      <td>23</td>\n",
       "    </tr>\n",
       "    <tr>\n",
       "      <th>2</th>\n",
       "      <td>2020-06-12 07:45:00</td>\n",
       "      <td>4136001</td>\n",
       "      <td>WcxssY2VbP4hApt</td>\n",
       "      <td>267.833333</td>\n",
       "      <td>262.780000</td>\n",
       "      <td>194.800000</td>\n",
       "      <td>1.818769e+08</td>\n",
       "      <td>24.554531</td>\n",
       "      <td>27.705916</td>\n",
       "      <td>0.175870</td>\n",
       "      <td>iq8k7ZNt4Mwm3w0</td>\n",
       "      <td>2020-06-12</td>\n",
       "      <td>07:45:00</td>\n",
       "      <td>1</td>\n",
       "      <td>3947.0</td>\n",
       "      <td>7</td>\n",
       "    </tr>\n",
       "    <tr>\n",
       "      <th>3</th>\n",
       "      <td>2020-06-12 07:45:00</td>\n",
       "      <td>4136001</td>\n",
       "      <td>mqwcsP2rE7J0TFp</td>\n",
       "      <td>284.813333</td>\n",
       "      <td>279.646667</td>\n",
       "      <td>201.533333</td>\n",
       "      <td>5.937824e+08</td>\n",
       "      <td>24.554531</td>\n",
       "      <td>27.705916</td>\n",
       "      <td>0.175870</td>\n",
       "      <td>iq8k7ZNt4Mwm3w0</td>\n",
       "      <td>2020-06-12</td>\n",
       "      <td>07:45:00</td>\n",
       "      <td>1</td>\n",
       "      <td>3877.0</td>\n",
       "      <td>7</td>\n",
       "    </tr>\n",
       "    <tr>\n",
       "      <th>4</th>\n",
       "      <td>2020-06-12 07:45:00</td>\n",
       "      <td>4136001</td>\n",
       "      <td>oZ35aAeoifZaQzV</td>\n",
       "      <td>262.600000</td>\n",
       "      <td>257.593333</td>\n",
       "      <td>195.866667</td>\n",
       "      <td>1.660165e+09</td>\n",
       "      <td>24.554531</td>\n",
       "      <td>27.705916</td>\n",
       "      <td>0.175870</td>\n",
       "      <td>iq8k7ZNt4Mwm3w0</td>\n",
       "      <td>2020-06-12</td>\n",
       "      <td>07:45:00</td>\n",
       "      <td>1</td>\n",
       "      <td>5585.0</td>\n",
       "      <td>7</td>\n",
       "    </tr>\n",
       "    <tr>\n",
       "      <th>...</th>\n",
       "      <td>...</td>\n",
       "      <td>...</td>\n",
       "      <td>...</td>\n",
       "      <td>...</td>\n",
       "      <td>...</td>\n",
       "      <td>...</td>\n",
       "      <td>...</td>\n",
       "      <td>...</td>\n",
       "      <td>...</td>\n",
       "      <td>...</td>\n",
       "      <td>...</td>\n",
       "      <td>...</td>\n",
       "      <td>...</td>\n",
       "      <td>...</td>\n",
       "      <td>...</td>\n",
       "      <td>...</td>\n",
       "    </tr>\n",
       "    <tr>\n",
       "      <th>23183</th>\n",
       "      <td>2020-06-17 16:15:00</td>\n",
       "      <td>4135001</td>\n",
       "      <td>bvBOhCH3iADSZry</td>\n",
       "      <td>341.128571</td>\n",
       "      <td>334.957143</td>\n",
       "      <td>5215.000000</td>\n",
       "      <td>6.538764e+06</td>\n",
       "      <td>24.112787</td>\n",
       "      <td>28.996932</td>\n",
       "      <td>0.235078</td>\n",
       "      <td>HmiyD2TTLFNqkNe</td>\n",
       "      <td>2020-06-17</td>\n",
       "      <td>16:15:00</td>\n",
       "      <td>1</td>\n",
       "      <td>5757.0</td>\n",
       "      <td>16</td>\n",
       "    </tr>\n",
       "    <tr>\n",
       "      <th>23184</th>\n",
       "      <td>2020-06-17 16:15:00</td>\n",
       "      <td>4135001</td>\n",
       "      <td>iCRJl6heRkivqQ3</td>\n",
       "      <td>351.928571</td>\n",
       "      <td>345.714286</td>\n",
       "      <td>5693.571429</td>\n",
       "      <td>7.426000e+06</td>\n",
       "      <td>24.112787</td>\n",
       "      <td>28.996932</td>\n",
       "      <td>0.235078</td>\n",
       "      <td>HmiyD2TTLFNqkNe</td>\n",
       "      <td>2020-06-17</td>\n",
       "      <td>16:15:00</td>\n",
       "      <td>1</td>\n",
       "      <td>6305.0</td>\n",
       "      <td>16</td>\n",
       "    </tr>\n",
       "    <tr>\n",
       "      <th>23185</th>\n",
       "      <td>2020-06-17 16:15:00</td>\n",
       "      <td>4135001</td>\n",
       "      <td>ih0vzX44oOqAx2f</td>\n",
       "      <td>350.714286</td>\n",
       "      <td>344.485714</td>\n",
       "      <td>5497.857143</td>\n",
       "      <td>6.425869e+06</td>\n",
       "      <td>24.112787</td>\n",
       "      <td>28.996932</td>\n",
       "      <td>0.235078</td>\n",
       "      <td>HmiyD2TTLFNqkNe</td>\n",
       "      <td>2020-06-17</td>\n",
       "      <td>16:15:00</td>\n",
       "      <td>1</td>\n",
       "      <td>6124.0</td>\n",
       "      <td>16</td>\n",
       "    </tr>\n",
       "    <tr>\n",
       "      <th>23186</th>\n",
       "      <td>2020-06-17 16:15:00</td>\n",
       "      <td>4135001</td>\n",
       "      <td>rGa61gmuvPhdLxV</td>\n",
       "      <td>360.528571</td>\n",
       "      <td>353.985714</td>\n",
       "      <td>5688.428571</td>\n",
       "      <td>7.356635e+06</td>\n",
       "      <td>24.112787</td>\n",
       "      <td>28.996932</td>\n",
       "      <td>0.235078</td>\n",
       "      <td>HmiyD2TTLFNqkNe</td>\n",
       "      <td>2020-06-17</td>\n",
       "      <td>16:15:00</td>\n",
       "      <td>1</td>\n",
       "      <td>6243.0</td>\n",
       "      <td>16</td>\n",
       "    </tr>\n",
       "    <tr>\n",
       "      <th>23187</th>\n",
       "      <td>2020-06-17 23:45:00</td>\n",
       "      <td>4136001</td>\n",
       "      <td>xoJJ8DcxJEcupym</td>\n",
       "      <td>0.000000</td>\n",
       "      <td>0.000000</td>\n",
       "      <td>4316.000000</td>\n",
       "      <td>2.093357e+08</td>\n",
       "      <td>23.202871</td>\n",
       "      <td>22.535908</td>\n",
       "      <td>0.000000</td>\n",
       "      <td>iq8k7ZNt4Mwm3w0</td>\n",
       "      <td>2020-06-17</td>\n",
       "      <td>23:45:00</td>\n",
       "      <td>0</td>\n",
       "      <td>6203.2</td>\n",
       "      <td>23</td>\n",
       "    </tr>\n",
       "  </tbody>\n",
       "</table>\n",
       "<p>23188 rows × 16 columns</p>\n",
       "</div>"
      ],
      "text/plain": [
       "                DATE_TIME  PLANT_ID       SOURCE_KEY    DC_POWER    AC_POWER  \\\n",
       "0     2020-06-12 02:30:00   4136001  LYwnQax7tkwH5Cb    0.000000    0.000000   \n",
       "1     2020-06-12 23:45:00   4136001  xoJJ8DcxJEcupym    0.000000    0.000000   \n",
       "2     2020-06-12 07:45:00   4136001  WcxssY2VbP4hApt  267.833333  262.780000   \n",
       "3     2020-06-12 07:45:00   4136001  mqwcsP2rE7J0TFp  284.813333  279.646667   \n",
       "4     2020-06-12 07:45:00   4136001  oZ35aAeoifZaQzV  262.600000  257.593333   \n",
       "...                   ...       ...              ...         ...         ...   \n",
       "23183 2020-06-17 16:15:00   4135001  bvBOhCH3iADSZry  341.128571  334.957143   \n",
       "23184 2020-06-17 16:15:00   4135001  iCRJl6heRkivqQ3  351.928571  345.714286   \n",
       "23185 2020-06-17 16:15:00   4135001  ih0vzX44oOqAx2f  350.714286  344.485714   \n",
       "23186 2020-06-17 16:15:00   4135001  rGa61gmuvPhdLxV  360.528571  353.985714   \n",
       "23187 2020-06-17 23:45:00   4136001  xoJJ8DcxJEcupym    0.000000    0.000000   \n",
       "\n",
       "       DAILY_YIELD   TOTAL_YIELD  AMBIENT_TEMPERATURE  MODULE_TEMPERATURE  \\\n",
       "0      3718.000000  1.795083e+09            22.610987           22.146187   \n",
       "1      4788.000000  2.093055e+08            23.099230           22.757666   \n",
       "2       194.800000  1.818769e+08            24.554531           27.705916   \n",
       "3       201.533333  5.937824e+08            24.554531           27.705916   \n",
       "4       195.866667  1.660165e+09            24.554531           27.705916   \n",
       "...            ...           ...                  ...                 ...   \n",
       "23183  5215.000000  6.538764e+06            24.112787           28.996932   \n",
       "23184  5693.571429  7.426000e+06            24.112787           28.996932   \n",
       "23185  5497.857143  6.425869e+06            24.112787           28.996932   \n",
       "23186  5688.428571  7.356635e+06            24.112787           28.996932   \n",
       "23187  4316.000000  2.093357e+08            23.202871           22.535908   \n",
       "\n",
       "       IRRADIATION   WEATHER_SOURCE        DATE      TIME  is_daytime  \\\n",
       "0         0.000000  iq8k7ZNt4Mwm3w0  2020-06-12  02:30:00           0   \n",
       "1         0.000000  iq8k7ZNt4Mwm3w0  2020-06-12  23:45:00           0   \n",
       "2         0.175870  iq8k7ZNt4Mwm3w0  2020-06-12  07:45:00           1   \n",
       "3         0.175870  iq8k7ZNt4Mwm3w0  2020-06-12  07:45:00           1   \n",
       "4         0.175870  iq8k7ZNt4Mwm3w0  2020-06-12  07:45:00           1   \n",
       "...            ...              ...         ...       ...         ...   \n",
       "23183     0.235078  HmiyD2TTLFNqkNe  2020-06-17  16:15:00           1   \n",
       "23184     0.235078  HmiyD2TTLFNqkNe  2020-06-17  16:15:00           1   \n",
       "23185     0.235078  HmiyD2TTLFNqkNe  2020-06-17  16:15:00           1   \n",
       "23186     0.235078  HmiyD2TTLFNqkNe  2020-06-17  16:15:00           1   \n",
       "23187     0.000000  iq8k7ZNt4Mwm3w0  2020-06-17  23:45:00           0   \n",
       "\n",
       "       yesterday_max_daily_yield  HOUR  \n",
       "0                         3718.0     2  \n",
       "1                         3971.0    23  \n",
       "2                         3947.0     7  \n",
       "3                         3877.0     7  \n",
       "4                         5585.0     7  \n",
       "...                          ...   ...  \n",
       "23183                     5757.0    16  \n",
       "23184                     6305.0    16  \n",
       "23185                     6124.0    16  \n",
       "23186                     6243.0    16  \n",
       "23187                     6203.2    23  \n",
       "\n",
       "[23188 rows x 16 columns]"
      ]
     },
     "execution_count": 3,
     "metadata": {},
     "output_type": "execute_result"
    }
   ],
   "source": [
    "test_df"
   ]
  },
  {
   "cell_type": "markdown",
   "id": "cf30b182",
   "metadata": {},
   "source": [
    "#### Function that scaled DC_POWER of plant 1 down by 10. New values were exported to train_df.csv and test_df.csv."
   ]
  },
  {
   "cell_type": "code",
   "execution_count": 4,
   "id": "b948e33e",
   "metadata": {},
   "outputs": [],
   "source": [
    "# def scale_down_plant_1(df):\n",
    "#     for i in df.index:\n",
    "#         if(df.iloc[i].PLANT_ID == 4135001):\n",
    "#             df.loc[i,'DC_POWER'] = df.iloc[i].DC_POWER/10\n",
    "            \n",
    "# scale_down_plant_1(train_df)\n",
    "# scale_down_plant_1(test_df)\n",
    "\n",
    "# train_df.to_csv(\"../processed_data/train_df.csv\", index=False)\n",
    "# test_df.to_csv(\"../processed_data/test_df.csv\", index=False)"
   ]
  },
  {
   "cell_type": "code",
   "execution_count": 5,
   "id": "dd00062c",
   "metadata": {},
   "outputs": [],
   "source": [
    "def calculate_metrics(label, true, pred):\n",
    "    mae = mean_absolute_error(true, pred)\n",
    "    rmse = np.sqrt(mean_squared_error(true, pred))\n",
    "    mae_results[label] = mae\n",
    "    rmse_results[label] = rmse\n",
    "    print(label + \" MAE: \" + str(mae) + \" kW.\")\n",
    "    print(label + \" RMSE: \" + str(rmse) + \" kW.\")\n",
    "    \n",
    "def plot_true_vs_pred(label, true, pred):\n",
    "    x_ax = range(len(true))\n",
    "    plt.plot(x_ax, true, label=\"original\")\n",
    "    plt.plot(x_ax, pred, label=\"predicted\")\n",
    "    plt.title(\"Test and Predicted Data \" + label)\n",
    "    plt.xlabel('X-axis')\n",
    "    plt.ylabel('Y-axis')\n",
    "    plt.legend(loc='best',fancybox=True, shadow=True)\n",
    "    plt.grid(True)\n",
    "    plt.show() "
   ]
  },
  {
   "cell_type": "markdown",
   "id": "8785e636",
   "metadata": {},
   "source": [
    "# Baseline Predictor"
   ]
  },
  {
   "cell_type": "markdown",
   "id": "9e25e768",
   "metadata": {},
   "source": [
    "#### Baseline predictor predicts the average train AC power for everything."
   ]
  },
  {
   "cell_type": "code",
   "execution_count": 6,
   "id": "b3b8483c",
   "metadata": {},
   "outputs": [
    {
     "name": "stdout",
     "output_type": "stream",
     "text": [
      "Baseline MAE: 293.85475863244017 kW.\n",
      "Baseline RMSE: 336.7762729048805 kW.\n"
     ]
    }
   ],
   "source": [
    "baseline_train_y = train_df.AC_POWER\n",
    "baseline_test_y = test_df.AC_POWER\n",
    "\n",
    "baseline = baseline_train_y.mean()\n",
    "calculate_metrics(\"Baseline\", baseline_test_y, [baseline]*len(baseline_test_y))"
   ]
  },
  {
   "cell_type": "code",
   "execution_count": 7,
   "id": "61759ed2",
   "metadata": {},
   "outputs": [
    {
     "data": {
      "image/png": "[encoded data removed]",
      "text/plain": [
       "<Figure size 432x288 with 1 Axes>"
      ]
     },
     "metadata": {
      "needs_background": "light"
     },
     "output_type": "display_data"
    }
   ],
   "source": [
    "plot_true_vs_pred(\"Baseline\", baseline_test_y, [baseline]*len(baseline_test_y))"
   ]
  },
  {
   "cell_type": "markdown",
   "id": "bf1057aa",
   "metadata": {},
   "source": [
    "# Linear Regression 1"
   ]
  },
  {
   "cell_type": "markdown",
   "id": "b50d37c8",
   "metadata": {},
   "source": [
    "#### Linear regression predictor. Grid search cross validation."
   ]
  },
  {
   "cell_type": "markdown",
   "id": "ee40591a",
   "metadata": {},
   "source": [
    "#### Set features and targets"
   ]
  },
  {
   "cell_type": "code",
   "execution_count": 8,
   "id": "55278e27",
   "metadata": {},
   "outputs": [],
   "source": [
    "train_df['IRR_HOUR']=train_df['IRRADIATION']*train_df['HOUR']\n",
    "train_df['IRR_AMBTEMP']=train_df['IRRADIATION']*train_df['AMBIENT_TEMPERATURE']\n",
    "\n",
    "train_df['IRR_YDAYYIELD']=train_df['IRRADIATION']*train_df['yesterday_max_daily_yield']\n",
    "test_df['IRR_HOUR']=test_df['IRRADIATION']*test_df['HOUR']\n",
    "test_df['IRR_AMBTEMP']=test_df['IRRADIATION']*test_df['AMBIENT_TEMPERATURE']\n",
    "test_df['IRR_YDAYYIELD']=test_df['IRRADIATION']*test_df['yesterday_max_daily_yield']\n"
   ]
  },
  {
   "cell_type": "code",
   "execution_count": 9,
   "id": "dd00db93",
   "metadata": {},
   "outputs": [
    {
     "name": "stderr",
     "output_type": "stream",
     "text": [
      "/Users/nicholasbrathwaite/opt/anaconda3/lib/python3.8/site-packages/pandas/core/generic.py:5494: SettingWithCopyWarning: \n",
      "A value is trying to be set on a copy of a slice from a DataFrame.\n",
      "Try using .loc[row_indexer,col_indexer] = value instead\n",
      "\n",
      "See the caveats in the documentation: https://pandas.pydata.org/pandas-docs/stable/user_guide/indexing.html#returning-a-view-versus-a-copy\n",
      "  self[name] = value\n",
      "/Users/nicholasbrathwaite/opt/anaconda3/lib/python3.8/site-packages/pandas/core/generic.py:5494: SettingWithCopyWarning: \n",
      "A value is trying to be set on a copy of a slice from a DataFrame.\n",
      "Try using .loc[row_indexer,col_indexer] = value instead\n",
      "\n",
      "See the caveats in the documentation: https://pandas.pydata.org/pandas-docs/stable/user_guide/indexing.html#returning-a-view-versus-a-copy\n",
      "  self[name] = value\n"
     ]
    }
   ],
   "source": [
    "# 'TIME' performs better than 'HOUR' in this case\n",
    "lr_features = [\"PLANT_ID\", \"AMBIENT_TEMPERATURE\", \"MODULE_TEMPERATURE\", \"IRRADIATION\", \"TIME\"]\n",
    "\n",
    "# Train data\n",
    "lr_train_x = train_df[lr_features]\n",
    "lr_train_y = train_df.AC_POWER\n",
    "\n",
    "lr_train_x.PLANT_ID = lr_train_x.PLANT_ID.astype(\"category\")\n",
    "lr_train_x = pd.get_dummies(lr_train_x)\n",
    "\n",
    "# Standardize data\n",
    "stdn = preprocessing.StandardScaler()\n",
    "stdn.fit(lr_train_x)\n",
    "lr_train_x = stdn.transform(lr_train_x)\n",
    "\n",
    "\n",
    "# Test data\n",
    "lr_test_x = test_df[lr_features]\n",
    "lr_test_y = test_df.AC_POWER\n",
    "\n",
    "lr_test_x.PLANT_ID = lr_test_x.PLANT_ID.astype(\"category\")\n",
    "lr_test_x = pd.get_dummies(lr_test_x)\n",
    "\n",
    "# Standardize data\n",
    "lr_test_x = stdn.transform(lr_test_x)"
   ]
  },
  {
   "cell_type": "code",
   "execution_count": 10,
   "id": "dbcc1eaf",
   "metadata": {},
   "outputs": [
    {
     "name": "stdout",
     "output_type": "stream",
     "text": [
      "Linear regression parameters:  {'copy_X': True, 'fit_intercept': True}\n"
     ]
    }
   ],
   "source": [
    "lr1_parameters = {'fit_intercept':[True,False], 'copy_X':[True, False]}\n",
    "\n",
    "lr_1 = GridSearchCV(LinearRegression(), lr1_parameters, scoring='neg_mean_squared_error', n_jobs=-1)\n",
    "lr_1.fit(lr_train_x, lr_train_y)\n",
    "\n",
    "print(\"Linear regression parameters: \", lr_1.best_params_)"
   ]
  },
  {
   "cell_type": "code",
   "execution_count": 11,
   "id": "c672f4f7",
   "metadata": {},
   "outputs": [
    {
     "name": "stdout",
     "output_type": "stream",
     "text": [
      "Linear Regression 1 MAE: 75.4230478989228 kW.\n",
      "Linear Regression 1 RMSE: 140.53501216706024 kW.\n"
     ]
    }
   ],
   "source": [
    "lr_1_preds = lr_1.predict(lr_test_x)\n",
    "calculate_metrics(\"Linear Regression 1\", lr_test_y, lr_1_preds)"
   ]
  },
  {
   "cell_type": "code",
   "execution_count": 12,
   "id": "93e5f382",
   "metadata": {},
   "outputs": [
    {
     "data": {
      "text/plain": [
       "array([-3.50904423e+01,  1.30601680e+02,  2.03208466e+02,  4.70805846e+12,\n",
       "        4.70805846e+12, -3.99022665e+11, -3.99022665e+11, -3.99022665e+11,\n",
       "       -3.96629661e+11, -3.94964116e+11, -3.94964116e+11, -3.95334869e+11,\n",
       "       -3.94964116e+11, -3.98655485e+11, -3.99022665e+11, -3.99022665e+11,\n",
       "       -3.99022665e+11, -3.99022665e+11, -3.99022665e+11, -3.99022665e+11,\n",
       "       -3.99022665e+11, -3.99022665e+11, -3.99022665e+11, -3.99022665e+11,\n",
       "       -3.99022665e+11, -3.99022665e+11, -3.94964116e+11, -3.91610894e+11,\n",
       "       -3.90861666e+11, -3.92731946e+11, -3.99022665e+11, -3.99022665e+11,\n",
       "       -4.03038640e+11, -4.03038640e+11, -4.03038640e+11, -4.03038640e+11,\n",
       "       -4.07013300e+11, -4.07013300e+11, -4.07013300e+11, -4.07013300e+11,\n",
       "       -4.07013300e+11, -4.07013300e+11, -4.07013300e+11, -4.07013300e+11,\n",
       "       -4.07013300e+11, -4.07013300e+11, -4.07013300e+11, -4.07013300e+11,\n",
       "       -4.07013300e+11, -4.07013300e+11, -4.07013300e+11, -4.07013300e+11,\n",
       "       -4.03038640e+11, -4.03038640e+11, -4.03038640e+11, -4.07013300e+11,\n",
       "       -4.07013300e+11, -4.07013300e+11, -4.07013300e+11, -4.03038640e+11,\n",
       "       -4.03038640e+11, -3.94964116e+11, -4.04850351e+11, -4.04850351e+11,\n",
       "       -4.04850351e+11, -4.04850351e+11, -4.04850351e+11, -4.04850351e+11,\n",
       "       -4.04850351e+11, -3.97551823e+11, -4.07910995e+11, -4.07910995e+11,\n",
       "       -4.06473689e+11, -4.04850351e+11, -4.04850351e+11, -4.08806632e+11,\n",
       "       -4.04850351e+11, -4.08806632e+11, -4.01400805e+11, -3.99389494e+11,\n",
       "       -3.91236467e+11, -3.92731946e+11, -3.92545335e+11, -3.99206123e+11,\n",
       "       -4.00670637e+11, -4.05572672e+11, -4.07193004e+11, -4.09343032e+11,\n",
       "       -4.09521669e+11, -4.09521669e+11, -4.09521669e+11, -4.09521669e+11,\n",
       "       -4.05572672e+11, -4.08806632e+11, -4.07013300e+11, -4.03038640e+11,\n",
       "       -4.03038640e+11, -3.99022665e+11, -3.99022665e+11, -3.99022665e+11,\n",
       "       -3.99022665e+11])"
      ]
     },
     "execution_count": 12,
     "metadata": {},
     "output_type": "execute_result"
    }
   ],
   "source": [
    "coefs = lr_1.best_estimator_.coef_\n",
    "coefs"
   ]
  },
  {
   "cell_type": "code",
   "execution_count": 13,
   "id": "a1c0975f",
   "metadata": {},
   "outputs": [
    {
     "data": {
      "text/plain": [
       "array([[-1.10115322, -0.84156231, -0.76200453, ..., -0.10168867,\n",
       "        -0.10168867, -0.10168867],\n",
       "       [-0.98045703, -0.79213975, -0.76200453, ..., -0.10168867,\n",
       "        -0.10168867,  9.83393714],\n",
       "       [-0.62069918, -0.39219906, -0.20702024, ..., -0.10168867,\n",
       "        -0.10168867, -0.10168867],\n",
       "       ...,\n",
       "       [-0.72990057, -0.2878531 , -0.0201811 , ..., -0.10168867,\n",
       "        -0.10168867, -0.10168867],\n",
       "       [-0.72990057, -0.2878531 , -0.0201811 , ..., -0.10168867,\n",
       "        -0.10168867, -0.10168867],\n",
       "       [-0.95483657, -0.8100633 , -0.76200453, ..., -0.10168867,\n",
       "        -0.10168867,  9.83393714]])"
      ]
     },
     "execution_count": 13,
     "metadata": {},
     "output_type": "execute_result"
    }
   ],
   "source": [
    "lr_test_x"
   ]
  },
  {
   "cell_type": "code",
   "execution_count": 14,
   "id": "dfdf13f5",
   "metadata": {},
   "outputs": [
    {
     "ename": "NameError",
     "evalue": "name 'bias_variance_decomp' is not defined",
     "output_type": "error",
     "traceback": [
      "\u001b[0;31m---------------------------------------------------------------------------\u001b[0m",
      "\u001b[0;31mNameError\u001b[0m                                 Traceback (most recent call last)",
      "\u001b[0;32m<ipython-input-14-c476247c9fba>\u001b[0m in \u001b[0;36m<module>\u001b[0;34m\u001b[0m\n\u001b[0;32m----> 1\u001b[0;31m avg_expected_loss, avg_bias, avg_var = bias_variance_decomp(lr_1, lr_train_x,\n\u001b[0m\u001b[1;32m      2\u001b[0m                                                             \u001b[0mnp\u001b[0m\u001b[0;34m.\u001b[0m\u001b[0marray\u001b[0m\u001b[0;34m(\u001b[0m\u001b[0mlr_train_y\u001b[0m\u001b[0;34m)\u001b[0m\u001b[0;34m,\u001b[0m \u001b[0mlr_test_x\u001b[0m\u001b[0;34m,\u001b[0m\u001b[0;34m\u001b[0m\u001b[0;34m\u001b[0m\u001b[0m\n\u001b[1;32m      3\u001b[0m                                                             \u001b[0mnp\u001b[0m\u001b[0;34m.\u001b[0m\u001b[0marray\u001b[0m\u001b[0;34m(\u001b[0m\u001b[0mlr_test_y\u001b[0m\u001b[0;34m)\u001b[0m\u001b[0;34m,\u001b[0m\u001b[0;34m\u001b[0m\u001b[0;34m\u001b[0m\u001b[0m\n\u001b[1;32m      4\u001b[0m                                                             \u001b[0mloss\u001b[0m\u001b[0;34m=\u001b[0m\u001b[0;34m'mse'\u001b[0m\u001b[0;34m,\u001b[0m\u001b[0;34m\u001b[0m\u001b[0;34m\u001b[0m\u001b[0m\n\u001b[1;32m      5\u001b[0m                                                             \u001b[0mnum_rounds\u001b[0m\u001b[0;34m=\u001b[0m\u001b[0;36m50\u001b[0m\u001b[0;34m,\u001b[0m\u001b[0;34m\u001b[0m\u001b[0;34m\u001b[0m\u001b[0m\n",
      "\u001b[0;31mNameError\u001b[0m: name 'bias_variance_decomp' is not defined"
     ]
    }
   ],
   "source": [
    "avg_expected_loss, avg_bias, avg_var = bias_variance_decomp(lr_1, lr_train_x,\n",
    "                                                            np.array(lr_train_y), lr_test_x,\n",
    "                                                            np.array(lr_test_y),\n",
    "                                                            loss='mse',\n",
    "                                                            num_rounds=50,\n",
    "                                                            random_seed=20)"
   ]
  },
  {
   "cell_type": "code",
   "execution_count": 122,
   "id": "f4ff1c85",
   "metadata": {},
   "outputs": [
    {
     "data": {
      "text/plain": [
       "22668.866458365897"
      ]
     },
     "execution_count": 122,
     "metadata": {},
     "output_type": "execute_result"
    }
   ],
   "source": [
    "avg_bias"
   ]
  },
  {
   "cell_type": "code",
   "execution_count": 123,
   "id": "43e6e08c",
   "metadata": {},
   "outputs": [
    {
     "data": {
      "text/plain": [
       "17.741258470081135"
      ]
     },
     "execution_count": 123,
     "metadata": {},
     "output_type": "execute_result"
    }
   ],
   "source": [
    "avg_var"
   ]
  },
  {
   "cell_type": "markdown",
   "id": "819d93a1",
   "metadata": {},
   "source": [
    "## Linear Regression 1: Adding Yday AC\n"
   ]
  },
  {
   "cell_type": "code",
   "execution_count": 15,
   "id": "4224a34e",
   "metadata": {},
   "outputs": [
    {
     "ename": "KeyError",
     "evalue": "\"['AC_POWER_daybefore'] not in index\"",
     "output_type": "error",
     "traceback": [
      "\u001b[0;31m---------------------------------------------------------------------------\u001b[0m",
      "\u001b[0;31mKeyError\u001b[0m                                  Traceback (most recent call last)",
      "\u001b[0;32m<ipython-input-15-36d49c27e1d8>\u001b[0m in \u001b[0;36m<module>\u001b[0;34m\u001b[0m\n\u001b[1;32m      3\u001b[0m \u001b[0;34m\u001b[0m\u001b[0m\n\u001b[1;32m      4\u001b[0m \u001b[0;31m# Train data\u001b[0m\u001b[0;34m\u001b[0m\u001b[0;34m\u001b[0m\u001b[0;34m\u001b[0m\u001b[0m\n\u001b[0;32m----> 5\u001b[0;31m \u001b[0mlr_train_x\u001b[0m \u001b[0;34m=\u001b[0m \u001b[0mtrain_df\u001b[0m\u001b[0;34m[\u001b[0m\u001b[0mlr_features\u001b[0m\u001b[0;34m]\u001b[0m\u001b[0;34m\u001b[0m\u001b[0;34m\u001b[0m\u001b[0m\n\u001b[0m\u001b[1;32m      6\u001b[0m \u001b[0mlr_train_y\u001b[0m \u001b[0;34m=\u001b[0m \u001b[0mtrain_df\u001b[0m\u001b[0;34m.\u001b[0m\u001b[0mAC_POWER\u001b[0m\u001b[0;34m\u001b[0m\u001b[0;34m\u001b[0m\u001b[0m\n\u001b[1;32m      7\u001b[0m \u001b[0;34m\u001b[0m\u001b[0m\n",
      "\u001b[0;32m~/opt/anaconda3/lib/python3.8/site-packages/pandas/core/frame.py\u001b[0m in \u001b[0;36m__getitem__\u001b[0;34m(self, key)\u001b[0m\n\u001b[1;32m   3028\u001b[0m             \u001b[0;32mif\u001b[0m \u001b[0mis_iterator\u001b[0m\u001b[0;34m(\u001b[0m\u001b[0mkey\u001b[0m\u001b[0;34m)\u001b[0m\u001b[0;34m:\u001b[0m\u001b[0;34m\u001b[0m\u001b[0;34m\u001b[0m\u001b[0m\n\u001b[1;32m   3029\u001b[0m                 \u001b[0mkey\u001b[0m \u001b[0;34m=\u001b[0m \u001b[0mlist\u001b[0m\u001b[0;34m(\u001b[0m\u001b[0mkey\u001b[0m\u001b[0;34m)\u001b[0m\u001b[0;34m\u001b[0m\u001b[0;34m\u001b[0m\u001b[0m\n\u001b[0;32m-> 3030\u001b[0;31m             \u001b[0mindexer\u001b[0m \u001b[0;34m=\u001b[0m \u001b[0mself\u001b[0m\u001b[0;34m.\u001b[0m\u001b[0mloc\u001b[0m\u001b[0;34m.\u001b[0m\u001b[0m_get_listlike_indexer\u001b[0m\u001b[0;34m(\u001b[0m\u001b[0mkey\u001b[0m\u001b[0;34m,\u001b[0m \u001b[0maxis\u001b[0m\u001b[0;34m=\u001b[0m\u001b[0;36m1\u001b[0m\u001b[0;34m,\u001b[0m \u001b[0mraise_missing\u001b[0m\u001b[0;34m=\u001b[0m\u001b[0;32mTrue\u001b[0m\u001b[0;34m)\u001b[0m\u001b[0;34m[\u001b[0m\u001b[0;36m1\u001b[0m\u001b[0;34m]\u001b[0m\u001b[0;34m\u001b[0m\u001b[0;34m\u001b[0m\u001b[0m\n\u001b[0m\u001b[1;32m   3031\u001b[0m \u001b[0;34m\u001b[0m\u001b[0m\n\u001b[1;32m   3032\u001b[0m         \u001b[0;31m# take() does not accept boolean indexers\u001b[0m\u001b[0;34m\u001b[0m\u001b[0;34m\u001b[0m\u001b[0;34m\u001b[0m\u001b[0m\n",
      "\u001b[0;32m~/opt/anaconda3/lib/python3.8/site-packages/pandas/core/indexing.py\u001b[0m in \u001b[0;36m_get_listlike_indexer\u001b[0;34m(self, key, axis, raise_missing)\u001b[0m\n\u001b[1;32m   1264\u001b[0m             \u001b[0mkeyarr\u001b[0m\u001b[0;34m,\u001b[0m \u001b[0mindexer\u001b[0m\u001b[0;34m,\u001b[0m \u001b[0mnew_indexer\u001b[0m \u001b[0;34m=\u001b[0m \u001b[0max\u001b[0m\u001b[0;34m.\u001b[0m\u001b[0m_reindex_non_unique\u001b[0m\u001b[0;34m(\u001b[0m\u001b[0mkeyarr\u001b[0m\u001b[0;34m)\u001b[0m\u001b[0;34m\u001b[0m\u001b[0;34m\u001b[0m\u001b[0m\n\u001b[1;32m   1265\u001b[0m \u001b[0;34m\u001b[0m\u001b[0m\n\u001b[0;32m-> 1266\u001b[0;31m         \u001b[0mself\u001b[0m\u001b[0;34m.\u001b[0m\u001b[0m_validate_read_indexer\u001b[0m\u001b[0;34m(\u001b[0m\u001b[0mkeyarr\u001b[0m\u001b[0;34m,\u001b[0m \u001b[0mindexer\u001b[0m\u001b[0;34m,\u001b[0m \u001b[0maxis\u001b[0m\u001b[0;34m,\u001b[0m \u001b[0mraise_missing\u001b[0m\u001b[0;34m=\u001b[0m\u001b[0mraise_missing\u001b[0m\u001b[0;34m)\u001b[0m\u001b[0;34m\u001b[0m\u001b[0;34m\u001b[0m\u001b[0m\n\u001b[0m\u001b[1;32m   1267\u001b[0m         \u001b[0;32mreturn\u001b[0m \u001b[0mkeyarr\u001b[0m\u001b[0;34m,\u001b[0m \u001b[0mindexer\u001b[0m\u001b[0;34m\u001b[0m\u001b[0;34m\u001b[0m\u001b[0m\n\u001b[1;32m   1268\u001b[0m \u001b[0;34m\u001b[0m\u001b[0m\n",
      "\u001b[0;32m~/opt/anaconda3/lib/python3.8/site-packages/pandas/core/indexing.py\u001b[0m in \u001b[0;36m_validate_read_indexer\u001b[0;34m(self, key, indexer, axis, raise_missing)\u001b[0m\n\u001b[1;32m   1314\u001b[0m             \u001b[0;32mif\u001b[0m \u001b[0mraise_missing\u001b[0m\u001b[0;34m:\u001b[0m\u001b[0;34m\u001b[0m\u001b[0;34m\u001b[0m\u001b[0m\n\u001b[1;32m   1315\u001b[0m                 \u001b[0mnot_found\u001b[0m \u001b[0;34m=\u001b[0m \u001b[0mlist\u001b[0m\u001b[0;34m(\u001b[0m\u001b[0mset\u001b[0m\u001b[0;34m(\u001b[0m\u001b[0mkey\u001b[0m\u001b[0;34m)\u001b[0m \u001b[0;34m-\u001b[0m \u001b[0mset\u001b[0m\u001b[0;34m(\u001b[0m\u001b[0max\u001b[0m\u001b[0;34m)\u001b[0m\u001b[0;34m)\u001b[0m\u001b[0;34m\u001b[0m\u001b[0;34m\u001b[0m\u001b[0m\n\u001b[0;32m-> 1316\u001b[0;31m                 \u001b[0;32mraise\u001b[0m \u001b[0mKeyError\u001b[0m\u001b[0;34m(\u001b[0m\u001b[0;34mf\"{not_found} not in index\"\u001b[0m\u001b[0;34m)\u001b[0m\u001b[0;34m\u001b[0m\u001b[0;34m\u001b[0m\u001b[0m\n\u001b[0m\u001b[1;32m   1317\u001b[0m \u001b[0;34m\u001b[0m\u001b[0m\n\u001b[1;32m   1318\u001b[0m             \u001b[0mnot_found\u001b[0m \u001b[0;34m=\u001b[0m \u001b[0mkey\u001b[0m\u001b[0;34m[\u001b[0m\u001b[0mmissing_mask\u001b[0m\u001b[0;34m]\u001b[0m\u001b[0;34m\u001b[0m\u001b[0;34m\u001b[0m\u001b[0m\n",
      "\u001b[0;31mKeyError\u001b[0m: \"['AC_POWER_daybefore'] not in index\""
     ]
    }
   ],
   "source": [
    "# 'TIME' performs better than 'HOUR' in this case\n",
    "lr_features = [\"PLANT_ID\", \"AMBIENT_TEMPERATURE\", \"MODULE_TEMPERATURE\", \"IRRADIATION\", \"TIME\", \"AC_POWER_daybefore\"]\n",
    "\n",
    "# Train data\n",
    "lr_train_x = train_df[lr_features]\n",
    "lr_train_y = train_df.AC_POWER\n",
    "\n",
    "lr_train_x.PLANT_ID = lr_train_x.PLANT_ID.astype(\"category\")\n",
    "lr_train_x = pd.get_dummies(lr_train_x)\n",
    "\n",
    "# Standardize data\n",
    "stdn = preprocessing.StandardScaler()\n",
    "stdn.fit(lr_train_x)\n",
    "lr_train_x = stdn.transform(lr_train_x)\n",
    "\n",
    "\n",
    "# Test data\n",
    "lr_test_x = test_df[lr_features]\n",
    "lr_test_y = test_df.AC_POWER\n",
    "\n",
    "lr_test_x.PLANT_ID = lr_test_x.PLANT_ID.astype(\"category\")\n",
    "lr_test_x = pd.get_dummies(lr_test_x)\n",
    "\n",
    "# Standardize data\n",
    "lr_test_x = stdn.transform(lr_test_x)\n",
    "\n",
    "lr1_parameters = {'fit_intercept':[True,False], 'copy_X':[True, False]}\n",
    "\n",
    "lr_1 = GridSearchCV(LinearRegression(), lr1_parameters, scoring='neg_mean_squared_error', n_jobs=-1)\n",
    "lr_1.fit(lr_train_x, lr_train_y)\n",
    "\n",
    "print(\"Linear regression parameters: \", lr_1.best_params_)"
   ]
  },
  {
   "cell_type": "code",
   "execution_count": 261,
   "id": "6351404d",
   "metadata": {},
   "outputs": [
    {
     "name": "stdout",
     "output_type": "stream",
     "text": [
      "Linear Regression 1 MAE: 76.64278383531972 kW.\n",
      "Linear Regression 1 RMSE: 144.52695898923068 kW.\n"
     ]
    }
   ],
   "source": [
    "lr_1_preds = lr_1.predict(lr_test_x)\n",
    "calculate_metrics(\"Linear Regression 1\", lr_test_y, lr_1_preds)"
   ]
  },
  {
   "cell_type": "markdown",
   "id": "e7363a83",
   "metadata": {},
   "source": [
    "## Linear Regression 1: Adding Yday AC + Yday Daily Yield"
   ]
  },
  {
   "cell_type": "code",
   "execution_count": 262,
   "id": "d31bb2c8",
   "metadata": {},
   "outputs": [
    {
     "name": "stderr",
     "output_type": "stream",
     "text": [
      "/var/folders/ks/_m3rj8jd5qscrftnn0qmdk4w0000gn/T/ipykernel_6043/3817483365.py:8: SettingWithCopyWarning: \n",
      "A value is trying to be set on a copy of a slice from a DataFrame.\n",
      "Try using .loc[row_indexer,col_indexer] = value instead\n",
      "\n",
      "See the caveats in the documentation: https://pandas.pydata.org/pandas-docs/stable/user_guide/indexing.html#returning-a-view-versus-a-copy\n",
      "  lr_train_x.PLANT_ID = lr_train_x.PLANT_ID.astype(\"category\")\n",
      "/var/folders/ks/_m3rj8jd5qscrftnn0qmdk4w0000gn/T/ipykernel_6043/3817483365.py:21: SettingWithCopyWarning: \n",
      "A value is trying to be set on a copy of a slice from a DataFrame.\n",
      "Try using .loc[row_indexer,col_indexer] = value instead\n",
      "\n",
      "See the caveats in the documentation: https://pandas.pydata.org/pandas-docs/stable/user_guide/indexing.html#returning-a-view-versus-a-copy\n",
      "  lr_test_x.PLANT_ID = lr_test_x.PLANT_ID.astype(\"category\")\n"
     ]
    },
    {
     "name": "stdout",
     "output_type": "stream",
     "text": [
      "Linear regression parameters:  {'copy_X': True, 'fit_intercept': True}\n"
     ]
    }
   ],
   "source": [
    "# 'TIME' performs better than 'HOUR' in this case\n",
    "lr_features = [\"PLANT_ID\", \"AMBIENT_TEMPERATURE\", \"MODULE_TEMPERATURE\", \"IRRADIATION\", \"TIME\", \"AC_POWER_daybefore\", 'yesterday_max_daily_yield']\n",
    "\n",
    "# Train data\n",
    "lr_train_x = train_df[lr_features]\n",
    "lr_train_y = train_df.AC_POWER\n",
    "\n",
    "lr_train_x.PLANT_ID = lr_train_x.PLANT_ID.astype(\"category\")\n",
    "lr_train_x = pd.get_dummies(lr_train_x)\n",
    "\n",
    "# Standardize data\n",
    "stdn = preprocessing.StandardScaler()\n",
    "stdn.fit(lr_train_x)\n",
    "lr_train_x = stdn.transform(lr_train_x)\n",
    "\n",
    "\n",
    "# Test data\n",
    "lr_test_x = test_df[lr_features]\n",
    "lr_test_y = test_df.AC_POWER\n",
    "\n",
    "lr_test_x.PLANT_ID = lr_test_x.PLANT_ID.astype(\"category\")\n",
    "lr_test_x = pd.get_dummies(lr_test_x)\n",
    "\n",
    "# Standardize data\n",
    "lr_test_x = stdn.transform(lr_test_x)\n",
    "\n",
    "lr1_parameters = {'fit_intercept':[True,False], 'copy_X':[True, False]}\n",
    "\n",
    "lr_1 = GridSearchCV(LinearRegression(), lr1_parameters, scoring='neg_mean_squared_error', n_jobs=-1)\n",
    "lr_1.fit(lr_train_x, lr_train_y)\n",
    "\n",
    "print(\"Linear regression parameters: \", lr_1.best_params_)"
   ]
  },
  {
   "cell_type": "code",
   "execution_count": 263,
   "id": "e65a2315",
   "metadata": {},
   "outputs": [
    {
     "name": "stdout",
     "output_type": "stream",
     "text": [
      "Linear Regression 1 MAE: 77.6624043846961 kW.\n",
      "Linear Regression 1 RMSE: 144.5895097633838 kW.\n"
     ]
    }
   ],
   "source": [
    "lr_1_preds = lr_1.predict(lr_test_x)\n",
    "calculate_metrics(\"Linear Regression 1\", lr_test_y, lr_1_preds)"
   ]
  },
  {
   "cell_type": "markdown",
   "id": "6995830e",
   "metadata": {},
   "source": [
    "## Linear Regression 1: Adding Interactions\n"
   ]
  },
  {
   "cell_type": "code",
   "execution_count": 268,
   "id": "a5a8fea5",
   "metadata": {},
   "outputs": [
    {
     "name": "stderr",
     "output_type": "stream",
     "text": [
      "/var/folders/ks/_m3rj8jd5qscrftnn0qmdk4w0000gn/T/ipykernel_6043/2790262864.py:8: SettingWithCopyWarning: \n",
      "A value is trying to be set on a copy of a slice from a DataFrame.\n",
      "Try using .loc[row_indexer,col_indexer] = value instead\n",
      "\n",
      "See the caveats in the documentation: https://pandas.pydata.org/pandas-docs/stable/user_guide/indexing.html#returning-a-view-versus-a-copy\n",
      "  lr_train_x.PLANT_ID = lr_train_x.PLANT_ID.astype(\"category\")\n",
      "/var/folders/ks/_m3rj8jd5qscrftnn0qmdk4w0000gn/T/ipykernel_6043/2790262864.py:21: SettingWithCopyWarning: \n",
      "A value is trying to be set on a copy of a slice from a DataFrame.\n",
      "Try using .loc[row_indexer,col_indexer] = value instead\n",
      "\n",
      "See the caveats in the documentation: https://pandas.pydata.org/pandas-docs/stable/user_guide/indexing.html#returning-a-view-versus-a-copy\n",
      "  lr_test_x.PLANT_ID = lr_test_x.PLANT_ID.astype(\"category\")\n"
     ]
    },
    {
     "name": "stdout",
     "output_type": "stream",
     "text": [
      "Linear regression parameters:  {'copy_X': True, 'fit_intercept': True}\n"
     ]
    }
   ],
   "source": [
    "# 'TIME' performs better than 'HOUR' in this case\n",
    "lr_features = [\"PLANT_ID\", \"AMBIENT_TEMPERATURE\", \"MODULE_TEMPERATURE\", \"IRRADIATION\", \"TIME\", \"AC_POWER_daybefore\", \"yesterday_max_daily_yield\", \"IRR_YDAYYIELD\",\"IRR_HOUR\"]\n",
    "\n",
    "# Train data\n",
    "lr_train_x = train_df[lr_features]\n",
    "lr_train_y = train_df.AC_POWER\n",
    "\n",
    "lr_train_x.PLANT_ID = lr_train_x.PLANT_ID.astype(\"category\")\n",
    "lr_train_x = pd.get_dummies(lr_train_x)\n",
    "\n",
    "# Standardize data\n",
    "stdn = preprocessing.StandardScaler()\n",
    "stdn.fit(lr_train_x)\n",
    "lr_train_x = stdn.transform(lr_train_x)\n",
    "\n",
    "\n",
    "# Test data\n",
    "lr_test_x = test_df[lr_features]\n",
    "lr_test_y = test_df.AC_POWER\n",
    "\n",
    "lr_test_x.PLANT_ID = lr_test_x.PLANT_ID.astype(\"category\")\n",
    "lr_test_x = pd.get_dummies(lr_test_x)\n",
    "\n",
    "# Standardize data\n",
    "lr_test_x = stdn.transform(lr_test_x)\n",
    "\n",
    "lr1_parameters = {'fit_intercept':[True,False], 'copy_X':[True, False]}\n",
    "\n",
    "lr_1 = GridSearchCV(LinearRegression(), lr1_parameters, scoring='neg_mean_squared_error', n_jobs=-1)\n",
    "lr_1.fit(lr_train_x, lr_train_y)\n",
    "\n",
    "print(\"Linear regression parameters: \", lr_1.best_params_)"
   ]
  },
  {
   "cell_type": "code",
   "execution_count": 269,
   "id": "1e5839a7",
   "metadata": {},
   "outputs": [
    {
     "name": "stdout",
     "output_type": "stream",
     "text": [
      "Linear Regression 1 MAE: 73.05481896206646 kW.\n",
      "Linear Regression 1 RMSE: 141.6799963911987 kW.\n"
     ]
    }
   ],
   "source": [
    "lr_1_preds = lr_1.predict(lr_test_x)\n",
    "calculate_metrics(\"Linear Regression 1\", lr_test_y, lr_1_preds)"
   ]
  },
  {
   "cell_type": "code",
   "execution_count": 216,
   "id": "631fbb23",
   "metadata": {},
   "outputs": [
    {
     "data": {
      "image/png": "[encoded data removed]",
      "text/plain": [
       "<Figure size 432x288 with 1 Axes>"
      ]
     },
     "metadata": {
      "needs_background": "light"
     },
     "output_type": "display_data"
    }
   ],
   "source": [
    "plot_true_vs_pred(\"Linear Regression Ridge\", lr_test_y, lr_1_preds)"
   ]
  },
  {
   "cell_type": "markdown",
   "id": "ff14ffa7",
   "metadata": {},
   "source": [
    "# Linear Regression 2 (Ridge)"
   ]
  },
  {
   "cell_type": "markdown",
   "id": "bd43a863",
   "metadata": {},
   "source": [
    "#### Linear regression with ridge regularization. Grid search cross validation."
   ]
  },
  {
   "cell_type": "code",
   "execution_count": 270,
   "id": "027b4a97",
   "metadata": {},
   "outputs": [
    {
     "name": "stdout",
     "output_type": "stream",
     "text": [
      "Linear regression 2 (Ridge) parameters:  {'alpha': 1000}\n"
     ]
    }
   ],
   "source": [
    "lr_reg_parameters = {'alpha': [0.0001, 0.001, 0.01, 0.1, 1, 10, 100, 1000, 10000, 100000]}\n",
    "\n",
    "lr_2 = GridSearchCV(Ridge(), lr_reg_parameters, return_train_score=True, scoring='neg_mean_squared_error', n_jobs=-1)\n",
    "lr_2.fit(lr_train_x, lr_train_y)\n",
    "\n",
    "print(\"Linear regression 2 (Ridge) parameters: \", lr_2.best_params_)"
   ]
  },
  {
   "cell_type": "code",
   "execution_count": 271,
   "id": "fe90c306",
   "metadata": {},
   "outputs": [
    {
     "name": "stdout",
     "output_type": "stream",
     "text": [
      "Linear Regression Ridge MAE: 73.8102873741319 kW.\n",
      "Linear Regression Ridge RMSE: 141.5781501430189 kW.\n"
     ]
    }
   ],
   "source": [
    "lr_2_preds = lr_2.predict(lr_test_x)\n",
    "calculate_metrics(\"Linear Regression Ridge\", lr_test_y, lr_2_preds)"
   ]
  },
  {
   "cell_type": "code",
   "execution_count": 230,
   "id": "a164c8c4",
   "metadata": {},
   "outputs": [
    {
     "data": {
      "image/png": "[encoded data removed]",
      "text/plain": [
       "<Figure size 432x288 with 1 Axes>"
      ]
     },
     "metadata": {
      "needs_background": "light"
     },
     "output_type": "display_data"
    }
   ],
   "source": [
    "plot_true_vs_pred(\"Linear Regression Ridge\", lr_test_y, lr_2_preds)"
   ]
  },
  {
   "cell_type": "code",
   "execution_count": null,
   "id": "d9bb26e6",
   "metadata": {},
   "outputs": [],
   "source": []
  },
  {
   "cell_type": "markdown",
   "id": "fed0c997",
   "metadata": {},
   "source": [
    "# Linear Regression 3 (Lasso)"
   ]
  },
  {
   "cell_type": "markdown",
   "id": "d49ebd0b",
   "metadata": {},
   "source": [
    "#### Linear regression with lasso regularization. Grid search cross validation."
   ]
  },
  {
   "cell_type": "code",
   "execution_count": 272,
   "id": "00337241",
   "metadata": {},
   "outputs": [
    {
     "name": "stderr",
     "output_type": "stream",
     "text": [
      "/Users/gchi/miniforge3/lib/python3.9/site-packages/sklearn/linear_model/_coordinate_descent.py:648: ConvergenceWarning: Objective did not converge. You might want to increase the number of iterations, check the scale of the features or consider increasing regularisation. Duality gap: 1.119e+09, tolerance: 1.211e+06\n",
      "  model = cd_fast.enet_coordinate_descent(\n",
      "/Users/gchi/miniforge3/lib/python3.9/site-packages/sklearn/linear_model/_coordinate_descent.py:648: ConvergenceWarning: Objective did not converge. You might want to increase the number of iterations, check the scale of the features or consider increasing regularisation. Duality gap: 1.194e+09, tolerance: 1.211e+06\n",
      "  model = cd_fast.enet_coordinate_descent(\n",
      "/Users/gchi/miniforge3/lib/python3.9/site-packages/sklearn/linear_model/_coordinate_descent.py:648: ConvergenceWarning: Objective did not converge. You might want to increase the number of iterations, check the scale of the features or consider increasing regularisation. Duality gap: 1.061e+09, tolerance: 1.216e+06\n",
      "  model = cd_fast.enet_coordinate_descent(\n",
      "/Users/gchi/miniforge3/lib/python3.9/site-packages/sklearn/linear_model/_coordinate_descent.py:648: ConvergenceWarning: Objective did not converge. You might want to increase the number of iterations, check the scale of the features or consider increasing regularisation. Duality gap: 1.102e+09, tolerance: 1.226e+06\n",
      "  model = cd_fast.enet_coordinate_descent(\n",
      "/Users/gchi/miniforge3/lib/python3.9/site-packages/sklearn/linear_model/_coordinate_descent.py:648: ConvergenceWarning: Objective did not converge. You might want to increase the number of iterations, check the scale of the features or consider increasing regularisation. Duality gap: 1.140e+09, tolerance: 1.241e+06\n",
      "  model = cd_fast.enet_coordinate_descent(\n",
      "/Users/gchi/miniforge3/lib/python3.9/site-packages/sklearn/linear_model/_coordinate_descent.py:648: ConvergenceWarning: Objective did not converge. You might want to increase the number of iterations, check the scale of the features or consider increasing regularisation. Duality gap: 9.860e+08, tolerance: 1.216e+06\n",
      "  model = cd_fast.enet_coordinate_descent(\n",
      "/Users/gchi/miniforge3/lib/python3.9/site-packages/sklearn/linear_model/_coordinate_descent.py:648: ConvergenceWarning: Objective did not converge. You might want to increase the number of iterations, check the scale of the features or consider increasing regularisation. Duality gap: 1.083e+09, tolerance: 1.142e+06\n",
      "  model = cd_fast.enet_coordinate_descent(\n",
      "/Users/gchi/miniforge3/lib/python3.9/site-packages/sklearn/linear_model/_coordinate_descent.py:648: ConvergenceWarning: Objective did not converge. You might want to increase the number of iterations, check the scale of the features or consider increasing regularisation. Duality gap: 9.365e+08, tolerance: 1.142e+06\n",
      "  model = cd_fast.enet_coordinate_descent(\n",
      "/Users/gchi/miniforge3/lib/python3.9/site-packages/sklearn/linear_model/_coordinate_descent.py:648: ConvergenceWarning: Objective did not converge. You might want to increase the number of iterations, check the scale of the features or consider increasing regularisation. Duality gap: 1.008e+09, tolerance: 1.241e+06\n",
      "  model = cd_fast.enet_coordinate_descent(\n",
      "/Users/gchi/miniforge3/lib/python3.9/site-packages/sklearn/linear_model/_coordinate_descent.py:648: ConvergenceWarning: Objective did not converge. You might want to increase the number of iterations, check the scale of the features or consider increasing regularisation. Duality gap: 9.972e+08, tolerance: 1.226e+06\n",
      "  model = cd_fast.enet_coordinate_descent(\n",
      "/Users/gchi/miniforge3/lib/python3.9/site-packages/sklearn/linear_model/_coordinate_descent.py:648: ConvergenceWarning: Objective did not converge. You might want to increase the number of iterations, check the scale of the features or consider increasing regularisation. Duality gap: 5.916e+08, tolerance: 1.211e+06\n",
      "  model = cd_fast.enet_coordinate_descent(\n",
      "/Users/gchi/miniforge3/lib/python3.9/site-packages/sklearn/linear_model/_coordinate_descent.py:648: ConvergenceWarning: Objective did not converge. You might want to increase the number of iterations, check the scale of the features or consider increasing regularisation. Duality gap: 5.030e+08, tolerance: 1.216e+06\n",
      "  model = cd_fast.enet_coordinate_descent(\n",
      "/Users/gchi/miniforge3/lib/python3.9/site-packages/sklearn/linear_model/_coordinate_descent.py:648: ConvergenceWarning: Objective did not converge. You might want to increase the number of iterations, check the scale of the features or consider increasing regularisation. Duality gap: 1.071e+07, tolerance: 1.241e+06\n",
      "  model = cd_fast.enet_coordinate_descent(\n",
      "/Users/gchi/miniforge3/lib/python3.9/site-packages/sklearn/linear_model/_coordinate_descent.py:648: ConvergenceWarning: Objective did not converge. You might want to increase the number of iterations, check the scale of the features or consider increasing regularisation. Duality gap: 2.801e+08, tolerance: 1.142e+06\n",
      "  model = cd_fast.enet_coordinate_descent(\n",
      "/Users/gchi/miniforge3/lib/python3.9/site-packages/sklearn/linear_model/_coordinate_descent.py:648: ConvergenceWarning: Objective did not converge. You might want to increase the number of iterations, check the scale of the features or consider increasing regularisation. Duality gap: 3.927e+08, tolerance: 1.226e+06\n",
      "  model = cd_fast.enet_coordinate_descent(\n"
     ]
    },
    {
     "name": "stdout",
     "output_type": "stream",
     "text": [
      "Linear regression 3 (Lasso) parameters:  {'alpha': 0.1}\n"
     ]
    }
   ],
   "source": [
    "lr_3 = GridSearchCV(Lasso(), lr_reg_parameters, return_train_score=True, scoring='neg_mean_squared_error', n_jobs=-1)\n",
    "lr_3.fit(lr_train_x, lr_train_y)\n",
    "\n",
    "print(\"Linear regression 3 (Lasso) parameters: \", lr_3.best_params_)"
   ]
  },
  {
   "cell_type": "code",
   "execution_count": 273,
   "id": "d844e6cf",
   "metadata": {},
   "outputs": [
    {
     "name": "stdout",
     "output_type": "stream",
     "text": [
      "Linear Regression Lasso MAE: 73.55227742572319 kW.\n",
      "Linear Regression Lasso RMSE: 141.96824312356603 kW.\n"
     ]
    }
   ],
   "source": [
    "lr_3_preds = lr_3.predict(lr_test_x)\n",
    "calculate_metrics(\"Linear Regression Lasso\", lr_test_y, lr_3_preds)"
   ]
  },
  {
   "cell_type": "code",
   "execution_count": 233,
   "id": "8e3f0e6d",
   "metadata": {},
   "outputs": [
    {
     "data": {
      "image/png": "[encoded data removed]",
      "text/plain": [
       "<Figure size 432x288 with 1 Axes>"
      ]
     },
     "metadata": {
      "needs_background": "light"
     },
     "output_type": "display_data"
    }
   ],
   "source": [
    "plot_true_vs_pred(\"Linear Regression Lasso\", lr_test_y, lr_3_preds)"
   ]
  },
  {
   "cell_type": "markdown",
   "id": "0bf344ee",
   "metadata": {},
   "source": [
    "# Decision Tree 1"
   ]
  },
  {
   "cell_type": "markdown",
   "id": "0347bc6f",
   "metadata": {},
   "source": [
    "#### Decision tree predictor. Grid search cross validation on decision tree max depths 1-50. No need to standardize data for trees."
   ]
  },
  {
   "cell_type": "markdown",
   "id": "d5af085c",
   "metadata": {},
   "source": [
    "#### Set features and targets"
   ]
  },
  {
   "cell_type": "code",
   "execution_count": 293,
   "id": "9a07541f",
   "metadata": {},
   "outputs": [
    {
     "name": "stderr",
     "output_type": "stream",
     "text": [
      "/var/folders/ks/_m3rj8jd5qscrftnn0qmdk4w0000gn/T/ipykernel_6043/2298886893.py:9: SettingWithCopyWarning: \n",
      "A value is trying to be set on a copy of a slice from a DataFrame.\n",
      "Try using .loc[row_indexer,col_indexer] = value instead\n",
      "\n",
      "See the caveats in the documentation: https://pandas.pydata.org/pandas-docs/stable/user_guide/indexing.html#returning-a-view-versus-a-copy\n",
      "  tree_1_train_x.PLANT_ID = tree_1_train_x.PLANT_ID.astype(\"category\")\n",
      "/var/folders/ks/_m3rj8jd5qscrftnn0qmdk4w0000gn/T/ipykernel_6043/2298886893.py:10: SettingWithCopyWarning: \n",
      "A value is trying to be set on a copy of a slice from a DataFrame.\n",
      "Try using .loc[row_indexer,col_indexer] = value instead\n",
      "\n",
      "See the caveats in the documentation: https://pandas.pydata.org/pandas-docs/stable/user_guide/indexing.html#returning-a-view-versus-a-copy\n",
      "  tree_1_train_x.HOUR = tree_1_train_x.HOUR.astype(\"category\")\n",
      "/var/folders/ks/_m3rj8jd5qscrftnn0qmdk4w0000gn/T/ipykernel_6043/2298886893.py:19: SettingWithCopyWarning: \n",
      "A value is trying to be set on a copy of a slice from a DataFrame.\n",
      "Try using .loc[row_indexer,col_indexer] = value instead\n",
      "\n",
      "See the caveats in the documentation: https://pandas.pydata.org/pandas-docs/stable/user_guide/indexing.html#returning-a-view-versus-a-copy\n",
      "  tree_1_test_x.PLANT_ID = tree_1_test_x.PLANT_ID.astype(\"category\")\n",
      "/var/folders/ks/_m3rj8jd5qscrftnn0qmdk4w0000gn/T/ipykernel_6043/2298886893.py:20: SettingWithCopyWarning: \n",
      "A value is trying to be set on a copy of a slice from a DataFrame.\n",
      "Try using .loc[row_indexer,col_indexer] = value instead\n",
      "\n",
      "See the caveats in the documentation: https://pandas.pydata.org/pandas-docs/stable/user_guide/indexing.html#returning-a-view-versus-a-copy\n",
      "  tree_1_test_x.HOUR = tree_1_test_x.HOUR.astype(\"category\")\n"
     ]
    }
   ],
   "source": [
    "# I found using 'HOUR' rather than 'TIME' results in higher accuracy in this case.\n",
    "tree_1_features = [\"PLANT_ID\", \"AMBIENT_TEMPERATURE\", \"MODULE_TEMPERATURE\", \"IRRADIATION\", \"HOUR\"]\n",
    "\n",
    "# Train data\n",
    "tree_1_train_x = train_df[tree_1_features]\n",
    "tree_1_train_y = train_df.AC_POWER\n",
    "\n",
    "# One-hot-encode categories\n",
    "tree_1_train_x.PLANT_ID = tree_1_train_x.PLANT_ID.astype(\"category\")\n",
    "tree_1_train_x.HOUR = tree_1_train_x.HOUR.astype(\"category\")\n",
    "tree_1_train_x = pd.get_dummies(tree_1_train_x)\n",
    "\n",
    "\n",
    "# Test data\n",
    "tree_1_test_x = test_df[tree_1_features]\n",
    "tree_1_test_y = test_df.AC_POWER\n",
    "\n",
    "# One-hot-encode categories\n",
    "tree_1_test_x.PLANT_ID = tree_1_test_x.PLANT_ID.astype(\"category\")\n",
    "tree_1_test_x.HOUR = tree_1_test_x.HOUR.astype(\"category\")\n",
    "\n",
    "\n",
    "tree_1_test_x = pd.get_dummies(tree_1_test_x)"
   ]
  },
  {
   "cell_type": "code",
   "execution_count": 296,
   "id": "bb4d6b01",
   "metadata": {},
   "outputs": [
    {
     "name": "stdout",
     "output_type": "stream",
     "text": [
      "Fitting 5 folds for each of 49 candidates, totalling 245 fits\n",
      "Optimal decision best parameters:  {'max_depth': 5}\n"
     ]
    }
   ],
   "source": [
    "dt_1_parameters = {'max_depth': range(1,50)}\n",
    "dt_1 = GridSearchCV(DecisionTreeRegressor(random_state=100), \n",
    "                    dt_1_parameters, \n",
    "                    return_train_score=True,\n",
    "                    verbose=3,\n",
    "                    scoring='neg_mean_squared_error', \n",
    "                    n_jobs=-1)\n",
    "\n",
    "dt_1.fit(tree_1_train_x, tree_1_train_y)\n",
    "print(\"Optimal decision best parameters: \", dt_1.best_params_)"
   ]
  },
  {
   "cell_type": "code",
   "execution_count": 297,
   "id": "cb618f09",
   "metadata": {},
   "outputs": [
    {
     "name": "stdout",
     "output_type": "stream",
     "text": [
      "Decision Tree 1 MAE: 47.13975714963662 kW.\n",
      "Decision Tree 1 RMSE: 135.80264527870875 kW.\n"
     ]
    }
   ],
   "source": [
    "dt_1_preds = dt_1.predict(tree_1_test_x)\n",
    "calculate_metrics(\"Decision Tree 1\", tree_1_test_y, dt_1_preds)"
   ]
  },
  {
   "cell_type": "code",
   "execution_count": 243,
   "id": "ce60f109",
   "metadata": {},
   "outputs": [
    {
     "data": {
      "image/png": "[encoded data removed]",
      "text/plain": [
       "<Figure size 432x288 with 1 Axes>"
      ]
     },
     "metadata": {
      "needs_background": "light"
     },
     "output_type": "display_data"
    }
   ],
   "source": [
    "plot_true_vs_pred(\"Decision Tree 1\", tree_1_test_y, dt_1_preds)"
   ]
  },
  {
   "cell_type": "code",
   "execution_count": 278,
   "id": "6157fda9",
   "metadata": {},
   "outputs": [
    {
     "name": "stdout",
     "output_type": "stream",
     "text": [
      "Feature importance:\n"
     ]
    },
    {
     "data": {
      "text/plain": [
       "IRRADIATION                  0.956970\n",
       "PLANT_ID_4135001             0.030403\n",
       "yesterday_max_daily_yield    0.009116\n",
       "AMBIENT_TEMPERATURE          0.003044\n",
       "AC_POWER_daybefore           0.000411\n",
       "HOUR_7                       0.000056\n",
       "HOUR_17                      0.000000\n",
       "HOUR_13                      0.000000\n",
       "HOUR_14                      0.000000\n",
       "HOUR_15                      0.000000\n",
       "HOUR_16                      0.000000\n",
       "HOUR_19                      0.000000\n",
       "HOUR_18                      0.000000\n",
       "HOUR_11                      0.000000\n",
       "HOUR_20                      0.000000\n",
       "HOUR_21                      0.000000\n",
       "HOUR_22                      0.000000\n",
       "HOUR_12                      0.000000\n",
       "HOUR_8                       0.000000\n",
       "HOUR_10                      0.000000\n",
       "HOUR_9                       0.000000\n",
       "MODULE_TEMPERATURE           0.000000\n",
       "HOUR_6                       0.000000\n",
       "HOUR_5                       0.000000\n",
       "HOUR_4                       0.000000\n",
       "dtype: float64"
      ]
     },
     "execution_count": 278,
     "metadata": {},
     "output_type": "execute_result"
    }
   ],
   "source": [
    "feature_importances = pd.Series(dt_1.best_estimator_.feature_importances_, \n",
    "                               index=tree_1_train_x.columns)\n",
    "print(\"Feature importance:\")\n",
    "feature_importances.sort_values(ascending=False)[:25]"
   ]
  },
  {
   "cell_type": "code",
   "execution_count": 22,
   "id": "7efe3fce",
   "metadata": {},
   "outputs": [
    {
     "data": {
      "text/plain": [
       "'decision_tree_1_viz.pdf'"
      ]
     },
     "execution_count": 22,
     "metadata": {},
     "output_type": "execute_result"
    }
   ],
   "source": [
    "dot_data = export_graphviz(dt_1.best_estimator_,\n",
    "                          out_file=None,\n",
    "                          feature_names=tree_1_train_x.columns,\n",
    "                          proportion=True,\n",
    "                          impurity=True,\n",
    "                          filled=True,\n",
    "                          rounded=True)\n",
    "graph = graphviz.Source(dot_data)\n",
    "graph.render('decision_tree_1_viz')"
   ]
  },
  {
   "cell_type": "code",
   "execution_count": 90,
   "id": "ff926be5",
   "metadata": {},
   "outputs": [
    {
     "data": {
      "text/plain": [
       "<AxesSubplot:xlabel='depth'>"
      ]
     },
     "execution_count": 90,
     "metadata": {},
     "output_type": "execute_result"
    },
    {
     "data": {
      "image/png": "[encoded data removed]",
      "text/plain": [
       "<Figure size 432x288 with 1 Axes>"
      ]
     },
     "metadata": {
      "needs_background": "light"
     },
     "output_type": "display_data"
    }
   ],
   "source": [
    "results = pd.DataFrame()\n",
    "results['depth'] = dt_1_parameters['max_depth']\n",
    "results['train error'] = 1 - dt_1.cv_results_['mean_train_score']\n",
    "results['test error'] = 1 -  dt_1.cv_results_['mean_test_score']\n",
    "ax1 = results.plot.line(x='depth', y='train error')\n",
    "results.plot.line(x='depth', y='test error', ax=ax1)"
   ]
  },
  {
   "cell_type": "markdown",
   "id": "f47d8b2c",
   "metadata": {},
   "source": [
    "# Random Forest"
   ]
  },
  {
   "cell_type": "markdown",
   "id": "98ab6b0d",
   "metadata": {},
   "source": [
    "#### Radom forest predictor."
   ]
  },
  {
   "cell_type": "code",
   "execution_count": 294,
   "id": "1bdfc3c4",
   "metadata": {},
   "outputs": [
    {
     "name": "stdout",
     "output_type": "stream",
     "text": [
      "Fitting 5 folds for each of 247 candidates, totalling 1235 fits\n",
      "5.397890988985697 minutes to train random forest.\n",
      "Random Forest Regresor:\n",
      " Optimal Parameters: {'max_depth': 6, 'n_estimators': 2}\n",
      " Optimal test R2: -26930.151\n"
     ]
    }
   ],
   "source": [
    "#rf_params = {'max_depth': np.arange(5, 50, 5), 'n_estimators':np.arange(5, 200, 5)}\n",
    "#rf_params = {'max_depth': np.arange(5, 10, 5), 'n_estimators':np.arange(5, 10, 5)}\n",
    "#rf_params = {'max_depth': np.arange(5, 50, 5), 'n_estimators':np.arange(5, 30, 5)}\n",
    "rf_params = {'max_depth': np.arange(1, 14, 1), 'n_estimators':np.arange(1, 20, 1)}\n",
    "\n",
    "rfCV = GridSearchCV(RandomForestRegressor(random_state=1), rf_params, \n",
    "                    return_train_score=True, \n",
    "                    scoring='neg_mean_squared_error', \n",
    "                    verbose=1, \n",
    "                    n_jobs=-1)\n",
    "\n",
    "start = time.time()\n",
    "rfCV.fit(tree_1_train_x, tree_1_train_y)\n",
    "end = time.time()\n",
    "print(str((end - start)/60) + \" minutes to train random forest.\")\n",
    "\n",
    "print('Random Forest Regresor:')\n",
    "print(' Optimal Parameters:', rfCV.best_params_)\n",
    "print(' Optimal test R2:', rfCV.best_score_.round(3))"
   ]
  },
  {
   "cell_type": "code",
   "execution_count": 295,
   "id": "a614f150",
   "metadata": {},
   "outputs": [
    {
     "name": "stdout",
     "output_type": "stream",
     "text": [
      "Random Forest MAE: 46.74331158418726 kW.\n",
      "Random Forest RMSE: 135.10482260707457 kW.\n"
     ]
    }
   ],
   "source": [
    "rf_preds = rfCV.predict(tree_1_test_x)\n",
    "calculate_metrics(\"Random Forest\", tree_1_test_y, rf_preds)"
   ]
  },
  {
   "cell_type": "code",
   "execution_count": 290,
   "id": "d305a1b4",
   "metadata": {},
   "outputs": [
    {
     "data": {
      "image/png": "[encoded data removed]",
      "text/plain": [
       "<Figure size 432x288 with 1 Axes>"
      ]
     },
     "metadata": {
      "needs_background": "light"
     },
     "output_type": "display_data"
    }
   ],
   "source": [
    "plot_true_vs_pred(\"Random Forest\", tree_1_test_y, rf_preds)"
   ]
  },
  {
   "cell_type": "code",
   "execution_count": 103,
   "id": "bef1708f",
   "metadata": {},
   "outputs": [
    {
     "name": "stdout",
     "output_type": "stream",
     "text": [
      "Feature importance:\n"
     ]
    },
    {
     "data": {
      "text/plain": [
       "IRRADIATION                   9.006466e-01\n",
       "IRR_YDAYYIELD                 6.589630e-02\n",
       "PLANT_ID_4136001              1.247851e-02\n",
       "yesterday_max_daily_yield     8.573316e-03\n",
       "PLANT_ID_4135001              4.178878e-03\n",
       "AMBIENT_TEMPERATURE           2.150274e-03\n",
       "MODULE_TEMPERATURE            1.389797e-03\n",
       "SOURCE_KEY_81aHJ1q11NBPMrL    1.050136e-03\n",
       "SOURCE_KEY_Quc1TzYxW2pYoWX    6.169802e-04\n",
       "SOURCE_KEY_vOuJvMaM2sgwLmb    5.060421e-04\n",
       "IRR_AMBTEMP                   4.971918e-04\n",
       "SOURCE_KEY_rrq4fwE8jgrTyWY    4.644699e-04\n",
       "SOURCE_KEY_Mx2yZCDsyf6DPfv    4.371333e-04\n",
       "SOURCE_KEY_V94E5Ben1TlhnDV    3.338325e-04\n",
       "SOURCE_KEY_LYwnQax7tkwH5Cb    3.035783e-04\n",
       "HOUR_7                        1.693138e-04\n",
       "HOUR_9                        8.206313e-05\n",
       "SOURCE_KEY_LlT2YUhhzqhg5Sw    6.344140e-05\n",
       "SOURCE_KEY_Et9kgGMDl729KT4    5.957451e-05\n",
       "HOUR_13                       4.546986e-05\n",
       "SOURCE_KEY_oZZkBaNadn6DNKz    3.502321e-05\n",
       "SOURCE_KEY_bvBOhCH3iADSZry    1.250403e-05\n",
       "HOUR_14                       9.178111e-06\n",
       "HOUR_16                       4.150801e-07\n",
       "SOURCE_KEY_Qf4GUc1pJu5T6c6    8.718854e-18\n",
       "dtype: float64"
      ]
     },
     "execution_count": 103,
     "metadata": {},
     "output_type": "execute_result"
    }
   ],
   "source": [
    "feature_importances = pd.Series(rfCV.best_estimator_.feature_importances_, \n",
    "                               index=tree_1_train_x.columns)\n",
    "print(\"Feature importance:\")\n",
    "feature_importances.sort_values(ascending=False)[:25]"
   ]
  },
  {
   "cell_type": "markdown",
   "id": "ce42e859",
   "metadata": {},
   "source": [
    "# Gradient Boosting Trees"
   ]
  },
  {
   "cell_type": "markdown",
   "id": "a3265b63",
   "metadata": {},
   "source": [
    "#### Gradient boosting tree predictors."
   ]
  },
  {
   "cell_type": "code",
   "execution_count": 291,
   "id": "b8f51712",
   "metadata": {},
   "outputs": [
    {
     "name": "stdout",
     "output_type": "stream",
     "text": [
      "Fitting 5 folds for each of 1 candidates, totalling 5 fits\n",
      "0.07458666563034058 minutes to train gradient boosting trees.\n",
      "Random Forest Regresor:\n",
      " Optimal Parameters: {'max_depth': 5, 'n_estimators': 5}\n",
      " Optimal test R2: -27240.542\n"
     ]
    }
   ],
   "source": [
    "#gb_params = {'max_depth': np.arange(5, 50, 5), 'n_estimators':np.arange(5, 200, 5)}\n",
    "gb_params = {'max_depth': np.arange(5, 10, 5), 'n_estimators':np.arange(5, 10, 5)}\n",
    "#gb_params = {'max_depth': np.arange(1, 12, 1), 'n_estimators':np.arange(1, 16, 1)}\n",
    "\n",
    "gbtCV = GridSearchCV(GradientBoostingRegressor(learning_rate=0.56, random_state=1), gb_params, \n",
    "                     return_train_score=True, \n",
    "                     scoring='neg_mean_squared_error', \n",
    "                     verbose=1, \n",
    "                     n_jobs=-1)\n",
    "\n",
    "start = time.time()\n",
    "gbtCV.fit(tree_1_train_x, tree_1_train_y)\n",
    "end = time.time()\n",
    "print(str((end - start)/60) + \" minutes to train gradient boosting trees.\")\n",
    "\n",
    "print('Random Forest Regresor:')\n",
    "print(' Optimal Parameters:', gbtCV.best_params_)\n",
    "print(' Optimal test R2:', gbtCV.best_score_.round(3))"
   ]
  },
  {
   "cell_type": "code",
   "execution_count": 292,
   "id": "bdb5c0cf",
   "metadata": {},
   "outputs": [
    {
     "name": "stdout",
     "output_type": "stream",
     "text": [
      "Gradient Boosting MAE: 48.3301186964847 kW.\n",
      "Gradient Boosting RMSE: 131.35225126563665 kW.\n"
     ]
    }
   ],
   "source": [
    "gbt_preds = gbtCV.predict(tree_1_test_x)\n",
    "calculate_metrics(\"Gradient Boosting\", tree_1_test_y, gbt_preds)"
   ]
  },
  {
   "cell_type": "code",
   "execution_count": 283,
   "id": "68dc2344",
   "metadata": {},
   "outputs": [
    {
     "data": {
      "image/png": "[encoded data removed]",
      "text/plain": [
       "<Figure size 432x288 with 1 Axes>"
      ]
     },
     "metadata": {
      "needs_background": "light"
     },
     "output_type": "display_data"
    }
   ],
   "source": [
    "plot_true_vs_pred(\"Gradient Boosting\", tree_1_test_y, gbt_preds)"
   ]
  },
  {
   "cell_type": "code",
   "execution_count": 284,
   "id": "6bf02864",
   "metadata": {},
   "outputs": [
    {
     "name": "stdout",
     "output_type": "stream",
     "text": [
      "Feature importance:\n"
     ]
    },
    {
     "data": {
      "text/plain": [
       "IRRADIATION                  0.956177\n",
       "PLANT_ID_4135001             0.030827\n",
       "yesterday_max_daily_yield    0.010326\n",
       "AMBIENT_TEMPERATURE          0.002104\n",
       "AC_POWER_daybefore           0.000485\n",
       "HOUR_7                       0.000081\n",
       "HOUR_17                      0.000000\n",
       "HOUR_13                      0.000000\n",
       "HOUR_14                      0.000000\n",
       "HOUR_15                      0.000000\n",
       "HOUR_16                      0.000000\n",
       "HOUR_19                      0.000000\n",
       "HOUR_18                      0.000000\n",
       "HOUR_11                      0.000000\n",
       "HOUR_20                      0.000000\n",
       "HOUR_21                      0.000000\n",
       "HOUR_22                      0.000000\n",
       "HOUR_12                      0.000000\n",
       "HOUR_8                       0.000000\n",
       "HOUR_10                      0.000000\n",
       "HOUR_9                       0.000000\n",
       "MODULE_TEMPERATURE           0.000000\n",
       "HOUR_6                       0.000000\n",
       "HOUR_5                       0.000000\n",
       "HOUR_4                       0.000000\n",
       "dtype: float64"
      ]
     },
     "execution_count": 284,
     "metadata": {},
     "output_type": "execute_result"
    }
   ],
   "source": [
    "feature_importances = pd.Series(rfCV.best_estimator_.feature_importances_, \n",
    "                               index=tree_1_train_x.columns)\n",
    "print(\"Feature importance:\")\n",
    "feature_importances.sort_values(ascending=False)[:25]"
   ]
  },
  {
   "cell_type": "markdown",
   "id": "7e81e839",
   "metadata": {},
   "source": [
    "# Feed Forward Neural Network 1"
   ]
  },
  {
   "cell_type": "markdown",
   "id": "dfcf60b9",
   "metadata": {},
   "source": [
    "#### FF neural network predictor."
   ]
  },
  {
   "cell_type": "code",
   "execution_count": 6,
   "id": "cb448897",
   "metadata": {},
   "outputs": [],
   "source": [
    "def plot_history(history):\n",
    "    plt.ylabel('Loss')\n",
    "    plt.xlabel('Epoch')\n",
    "    plt.xticks(range(0, len(history['loss'] + 1)))\n",
    "    plt.plot(history['loss'], label=\"training\", marker='o')\n",
    "    plt.plot(history['val_loss'], label=\"validation\", marker='o')\n",
    "    plt.legend()\n",
    "    plt.show()\n",
    "    \n",
    "def build_model(lr=0.0001):\n",
    "    tf.keras.backend.clear_session()\n",
    "    tf.random.set_seed(0)\n",
    "    \n",
    "    model = tf.keras.Sequential()\n",
    "\n",
    "    model.add(tf.keras.layers.Dense(256, activation='relu'))\n",
    "    model.add(tf.keras.layers.Dense(128, activation='relu'))\n",
    "    model.add(tf.keras.layers.Dense(64, activation='relu'))\n",
    "    model.add(tf.keras.layers.Dense(1, activation='relu'))\n",
    "\n",
    "    model.compile(\n",
    "        loss='mse',\n",
    "        optimizer=tf.keras.optimizers.Adam(learning_rate=lr),\n",
    "        metrics=[tf.keras.metrics.RootMeanSquaredError()])\n",
    "\n",
    "    return model"
   ]
  },
  {
   "cell_type": "code",
   "execution_count": 7,
   "id": "44d70196",
   "metadata": {},
   "outputs": [
    {
     "name": "stdout",
     "output_type": "stream",
     "text": [
      "Metal device set to: Apple M1 Max\n",
      "Epoch 1/20\n"
     ]
    },
    {
     "name": "stderr",
     "output_type": "stream",
     "text": [
      "2022-07-11 20:10:50.063293: I tensorflow/core/common_runtime/pluggable_device/pluggable_device_factory.cc:305] Could not identify NUMA node of platform GPU ID 0, defaulting to 0. Your kernel may not have been built with NUMA support.\n",
      "2022-07-11 20:10:50.063560: I tensorflow/core/common_runtime/pluggable_device/pluggable_device_factory.cc:271] Created TensorFlow device (/job:localhost/replica:0/task:0/device:GPU:0 with 0 MB memory) -> physical PluggableDevice (device: 0, name: METAL, pci bus id: <undefined>)\n",
      "2022-07-11 20:10:50.212538: W tensorflow/core/platform/profile_utils/cpu_utils.cc:128] Failed to get CPU frequency: 0 Hz\n"
     ]
    },
    {
     "name": "stdout",
     "output_type": "stream",
     "text": [
      "   8/1536 [..............................] - ETA: 12s - loss: 272791.7500 - root_mean_squared_error: 522.2947 "
     ]
    },
    {
     "name": "stderr",
     "output_type": "stream",
     "text": [
      "2022-07-11 20:10:50.422817: I tensorflow/core/grappler/optimizers/custom_graph_optimizer_registry.cc:113] Plugin optimizer for device_type GPU is enabled.\n"
     ]
    },
    {
     "name": "stdout",
     "output_type": "stream",
     "text": [
      "1536/1536 [==============================] - ETA: 0s - loss: 34950.0000 - root_mean_squared_error: 186.9492"
     ]
    },
    {
     "name": "stderr",
     "output_type": "stream",
     "text": [
      "2022-07-11 20:11:00.285154: I tensorflow/core/grappler/optimizers/custom_graph_optimizer_registry.cc:113] Plugin optimizer for device_type GPU is enabled.\n"
     ]
    },
    {
     "name": "stdout",
     "output_type": "stream",
     "text": [
      "1536/1536 [==============================] - 11s 7ms/step - loss: 34950.0000 - root_mean_squared_error: 186.9492 - val_loss: 16336.7441 - val_root_mean_squared_error: 127.8153\n",
      "Epoch 2/20\n",
      "1536/1536 [==============================] - 10s 6ms/step - loss: 24303.8789 - root_mean_squared_error: 155.8970 - val_loss: 14525.5693 - val_root_mean_squared_error: 120.5221\n",
      "Epoch 3/20\n",
      "1536/1536 [==============================] - 10s 7ms/step - loss: 23713.1504 - root_mean_squared_error: 153.9908 - val_loss: 14933.1875 - val_root_mean_squared_error: 122.2014\n",
      "Epoch 4/20\n",
      "1536/1536 [==============================] - 10s 6ms/step - loss: 23436.0508 - root_mean_squared_error: 153.0884 - val_loss: 14310.1387 - val_root_mean_squared_error: 119.6250\n",
      "Epoch 5/20\n",
      "1536/1536 [==============================] - 10s 6ms/step - loss: 23238.2500 - root_mean_squared_error: 152.4410 - val_loss: 14553.8916 - val_root_mean_squared_error: 120.6395\n",
      "Epoch 6/20\n",
      "1536/1536 [==============================] - 10s 7ms/step - loss: 23079.7344 - root_mean_squared_error: 151.9202 - val_loss: 14215.6377 - val_root_mean_squared_error: 119.2294\n",
      "Epoch 7/20\n",
      "1536/1536 [==============================] - 10s 6ms/step - loss: 22929.6172 - root_mean_squared_error: 151.4253 - val_loss: 13733.1113 - val_root_mean_squared_error: 117.1884\n",
      "Epoch 8/20\n",
      "1536/1536 [==============================] - 10s 6ms/step - loss: 22852.6387 - root_mean_squared_error: 151.1709 - val_loss: 13745.5361 - val_root_mean_squared_error: 117.2414\n",
      "Epoch 9/20\n",
      "1536/1536 [==============================] - 11s 7ms/step - loss: 22759.9336 - root_mean_squared_error: 150.8640 - val_loss: 13843.8271 - val_root_mean_squared_error: 117.6598\n",
      "Epoch 10/20\n",
      "1536/1536 [==============================] - 10s 7ms/step - loss: 22611.8438 - root_mean_squared_error: 150.3723 - val_loss: 15025.6689 - val_root_mean_squared_error: 122.5792\n",
      "Epoch 11/20\n",
      "1536/1536 [==============================] - 10s 6ms/step - loss: 22563.1367 - root_mean_squared_error: 150.2103 - val_loss: 14051.8711 - val_root_mean_squared_error: 118.5406\n",
      "Epoch 12/20\n",
      "1536/1536 [==============================] - 10s 7ms/step - loss: 22415.1973 - root_mean_squared_error: 149.7171 - val_loss: 14905.2715 - val_root_mean_squared_error: 122.0871\n",
      "Epoch 13/20\n",
      "1536/1536 [==============================] - 10s 7ms/step - loss: 22372.1934 - root_mean_squared_error: 149.5734 - val_loss: 15374.4414 - val_root_mean_squared_error: 123.9937\n",
      "Epoch 14/20\n",
      "1536/1536 [==============================] - 10s 6ms/step - loss: 22262.4102 - root_mean_squared_error: 149.2059 - val_loss: 13790.5381 - val_root_mean_squared_error: 117.4331\n",
      "Epoch 15/20\n",
      "1536/1536 [==============================] - 10s 6ms/step - loss: 22184.2344 - root_mean_squared_error: 148.9437 - val_loss: 13950.0586 - val_root_mean_squared_error: 118.1104\n",
      "Epoch 16/20\n",
      "1536/1536 [==============================] - 10s 7ms/step - loss: 22094.6641 - root_mean_squared_error: 148.6427 - val_loss: 14805.6182 - val_root_mean_squared_error: 121.6783\n",
      "Epoch 17/20\n",
      "1536/1536 [==============================] - 10s 7ms/step - loss: 22018.4648 - root_mean_squared_error: 148.3862 - val_loss: 14077.6748 - val_root_mean_squared_error: 118.6494\n",
      "Epoch 18/20\n",
      "1536/1536 [==============================] - 10s 6ms/step - loss: 21897.1172 - root_mean_squared_error: 147.9767 - val_loss: 14623.9863 - val_root_mean_squared_error: 120.9297\n",
      "Epoch 19/20\n",
      "1536/1536 [==============================] - 10s 6ms/step - loss: 21794.2012 - root_mean_squared_error: 147.6286 - val_loss: 14702.1045 - val_root_mean_squared_error: 121.2522\n",
      "Epoch 20/20\n",
      "1536/1536 [==============================] - 10s 7ms/step - loss: 21705.2266 - root_mean_squared_error: 147.3269 - val_loss: 14291.4932 - val_root_mean_squared_error: 119.5470\n"
     ]
    },
    {
     "data": {
      "image/png": "[encoded data removed]",
      "text/plain": [
       "<Figure size 432x288 with 1 Axes>"
      ]
     },
     "metadata": {
      "needs_background": "light"
     },
     "output_type": "display_data"
    }
   ],
   "source": [
    "model_path = \"./NeuralNets/Jacob/FFNN1/\"\n",
    "\n",
    "ffnn1 = build_model(lr=0.001)\n",
    "checkpoint = tf.keras.callbacks.ModelCheckpoint(model_path + \"{epoch:02d}-{val_loss:.3f}\", \n",
    "                                                monitor='val_loss', \n",
    "                                                save_best_only=True,\n",
    "                                                save_weights_only=False, \n",
    "                                                mode='max', verbose=1)\n",
    "earlystopping = tf.keras.callbacks.EarlyStopping(monitor='val_loss', patience=5, verbose=1)\n",
    "\n",
    "history = ffnn1.fit(\n",
    "  x = lr_train_x,  \n",
    "  y = lr_train_y,         \n",
    "  epochs=20,             \n",
    "  batch_size=64,\n",
    "  #callbacks=[checkpoint, earlystopping],\n",
    "  validation_split=0.1, \n",
    "  verbose=1             \n",
    "  )\n",
    "\n",
    "history = pd.DataFrame(history.history)\n",
    "plot_history(history)"
   ]
  },
  {
   "cell_type": "code",
   "execution_count": 8,
   "id": "b5bf5863",
   "metadata": {},
   "outputs": [
    {
     "name": "stderr",
     "output_type": "stream",
     "text": [
      "2022-07-11 20:14:15.479219: I tensorflow/core/grappler/optimizers/custom_graph_optimizer_registry.cc:113] Plugin optimizer for device_type GPU is enabled.\n"
     ]
    },
    {
     "name": "stdout",
     "output_type": "stream",
     "text": [
      "FFNN 1 MAE: 47.571068383399826 kW.\n",
      "FFNN 1 RMSE: 132.39492205759163 kW.\n"
     ]
    }
   ],
   "source": [
    "# Load the best model\n",
    "# files = os.listdir(model_path)\n",
    "# paths = [os.path.join(model_path, basename) for basename in files if basename != \"trainHistoryDict\"]\n",
    "# newestModelPath = max(paths, key=os.path.getctime)\n",
    "\n",
    "# ffnn1 = tf.keras.models.load_model(newestModelPath)\n",
    "\n",
    "# Evaluate\n",
    "ffnn1_preds = ffnn1.predict(lr_test_x)\n",
    "calculate_metrics(\"FFNN 1\", lr_test_y, ffnn1_preds)"
   ]
  },
  {
   "cell_type": "code",
   "execution_count": 9,
   "id": "3e782a93",
   "metadata": {},
   "outputs": [
    {
     "data": {
      "image/png": "[encoded data removed]",
      "text/plain": [
       "<Figure size 432x288 with 1 Axes>"
      ]
     },
     "metadata": {
      "needs_background": "light"
     },
     "output_type": "display_data"
    }
   ],
   "source": [
    "plot_true_vs_pred(\"FFNN 1\", lr_test_y, ffnn1_preds)"
   ]
  },
  {
   "cell_type": "markdown",
   "id": "207cf9dc",
   "metadata": {},
   "source": [
    "# Results"
   ]
  },
  {
   "cell_type": "code",
   "execution_count": 36,
   "id": "2b57cca2",
   "metadata": {},
   "outputs": [
    {
     "data": {
      "text/html": [
       "<div>\n",
       "<style scoped>\n",
       "    .dataframe tbody tr th:only-of-type {\n",
       "        vertical-align: middle;\n",
       "    }\n",
       "\n",
       "    .dataframe tbody tr th {\n",
       "        vertical-align: top;\n",
       "    }\n",
       "\n",
       "    .dataframe thead th {\n",
       "        text-align: right;\n",
       "    }\n",
       "</style>\n",
       "<table border=\"1\" class=\"dataframe\">\n",
       "  <thead>\n",
       "    <tr style=\"text-align: right;\">\n",
       "      <th></th>\n",
       "      <th>MAE</th>\n",
       "      <th>RMSE</th>\n",
       "    </tr>\n",
       "  </thead>\n",
       "  <tbody>\n",
       "    <tr>\n",
       "      <th>Random Forest</th>\n",
       "      <td>38.286710</td>\n",
       "      <td>125.552449</td>\n",
       "    </tr>\n",
       "    <tr>\n",
       "      <th>Decision Tree 1</th>\n",
       "      <td>38.641552</td>\n",
       "      <td>125.113496</td>\n",
       "    </tr>\n",
       "    <tr>\n",
       "      <th>Gradient Boosting</th>\n",
       "      <td>42.374103</td>\n",
       "      <td>123.332359</td>\n",
       "    </tr>\n",
       "    <tr>\n",
       "      <th>FFNN 1</th>\n",
       "      <td>48.658158</td>\n",
       "      <td>136.641319</td>\n",
       "    </tr>\n",
       "    <tr>\n",
       "      <th>Linear Regression 1</th>\n",
       "      <td>78.700720</td>\n",
       "      <td>138.339576</td>\n",
       "    </tr>\n",
       "    <tr>\n",
       "      <th>Linear Regression Ridge</th>\n",
       "      <td>78.937520</td>\n",
       "      <td>138.372288</td>\n",
       "    </tr>\n",
       "    <tr>\n",
       "      <th>Linear Regression Lasso</th>\n",
       "      <td>79.032171</td>\n",
       "      <td>138.445598</td>\n",
       "    </tr>\n",
       "    <tr>\n",
       "      <th>Baseline</th>\n",
       "      <td>289.374273</td>\n",
       "      <td>329.970797</td>\n",
       "    </tr>\n",
       "  </tbody>\n",
       "</table>\n",
       "</div>"
      ],
      "text/plain": [
       "                                MAE        RMSE\n",
       "Random Forest             38.286710  125.552449\n",
       "Decision Tree 1           38.641552  125.113496\n",
       "Gradient Boosting         42.374103  123.332359\n",
       "FFNN 1                    48.658158  136.641319\n",
       "Linear Regression 1       78.700720  138.339576\n",
       "Linear Regression Ridge   78.937520  138.372288\n",
       "Linear Regression Lasso   79.032171  138.445598\n",
       "Baseline                 289.374273  329.970797"
      ]
     },
     "execution_count": 36,
     "metadata": {},
     "output_type": "execute_result"
    },
    {
     "name": "stdout",
     "output_type": "stream",
     "text": [
      "[CV 1/5] END max_depth=1;, score=(train=-47623.313, test=-39146.522) total time=   0.1s\n",
      "[CV 1/5] END max_depth=3;, score=(train=-30326.462, test=-26526.618) total time=   0.1s\n",
      "[CV 1/5] END max_depth=5;, score=(train=-26189.813, test=-22716.867) total time=   0.2s\n",
      "[CV 2/5] END max_depth=7;, score=(train=-21315.422, test=-34571.297) total time=   0.2s\n",
      "[CV 2/5] END max_depth=9;, score=(train=-19740.674, test=-35677.797) total time=   0.2s\n",
      "[CV 1/5] END max_depth=11;, score=(train=-20908.267, test=-23765.443) total time=   0.3s\n",
      "[CV 2/5] END max_depth=13;, score=(train=-16618.083, test=-38307.480) total time=   0.3s\n",
      "[CV 1/5] END max_depth=15;, score=(train=-15944.697, test=-26528.497) total time=   0.3s\n",
      "[CV 1/5] END max_depth=17;, score=(train=-13304.037, test=-28473.987) total time=   0.3s\n",
      "[CV 2/5] END max_depth=19;, score=(train=-11943.579, test=-43672.596) total time=   0.3s\n",
      "[CV 2/5] END max_depth=21;, score=(train=-10225.831, test=-46487.150) total time=   0.3s\n",
      "[CV 5/5] END max_depth=22;, score=(train=-10281.216, test=-33351.667) total time=   0.4s\n",
      "[CV 5/5] END max_depth=24;, score=(train=-8824.447, test=-34867.356) total time=   0.4s\n",
      "[CV 5/5] END max_depth=26;, score=(train=-6952.842, test=-36580.088) total time=   0.5s\n",
      "[CV 5/5] END max_depth=29;, score=(train=-3963.112, test=-37965.979) total time=   0.4s\n",
      "[CV 4/5] END max_depth=31;, score=(train=-1539.578, test=-28185.483) total time=   0.4s\n",
      "[CV 4/5] END max_depth=33;, score=(train=-596.133, test=-27119.111) total time=   0.5s\n",
      "[CV 5/5] END max_depth=35;, score=(train=-481.680, test=-42246.527) total time=   0.4s\n",
      "[CV 1/5] END max_depth=38;, score=(train=-64.870, test=-40395.740) total time=   0.5s\n",
      "[CV 5/5] END max_depth=40;, score=(train=-41.476, test=-42979.639) total time=   0.4s\n",
      "[CV 4/5] END max_depth=42;, score=(train=-2.747, test=-28183.264) total time=   0.4s\n",
      "[CV 4/5] END max_depth=44;, score=(train=-0.917, test=-27568.665) total time=   0.4s\n",
      "[CV 4/5] END max_depth=46;, score=(train=-0.276, test=-27349.927) total time=   0.4s\n",
      "[CV 1/5] END max_depth=49;, score=(train=-0.032, test=-40232.942) total time=   0.4s\n",
      "[CV 4/5] END max_depth=2;, score=(train=-36396.621, test=-26308.783) total time=   0.1s\n",
      "[CV 4/5] END max_depth=4;, score=(train=-28572.140, test=-19609.582) total time=   0.2s\n",
      "[CV 4/5] END max_depth=6;, score=(train=-26348.611, test=-18482.311) total time=   0.2s\n",
      "[CV 2/5] END max_depth=8;, score=(train=-20515.902, test=-34766.477) total time=   0.2s\n",
      "[CV 1/5] END max_depth=10;, score=(train=-21897.252, test=-23340.843) total time=   0.3s\n",
      "[CV 2/5] END max_depth=12;, score=(train=-17403.590, test=-37874.265) total time=   0.3s\n",
      "[CV 2/5] END max_depth=14;, score=(train=-15850.922, test=-38846.639) total time=   0.3s\n",
      "[CV 2/5] END max_depth=16;, score=(train=-14321.538, test=-40527.268) total time=   0.3s\n",
      "[CV 2/5] END max_depth=18;, score=(train=-12770.685, test=-41667.027) total time=   0.3s\n",
      "[CV 2/5] END max_depth=20;, score=(train=-11074.154, test=-45514.952) total time=   0.3s\n",
      "[CV 2/5] END max_depth=22;, score=(train=-9218.287, test=-49756.545) total time=   0.4s\n",
      "[CV 2/5] END max_depth=24;, score=(train=-7360.688, test=-54330.947) total time=   0.4s\n",
      "[CV 3/5] END max_depth=26;, score=(train=-4275.736, test=-37335.668) total time=   0.4s\n",
      "[CV 3/5] END max_depth=28;, score=(train=-2836.411, test=-39828.234) total time=   0.4s\n",
      "[CV 3/5] END max_depth=30;, score=(train=-1660.299, test=-41122.749) total time=   0.4s\n",
      "[CV 3/5] END max_depth=32;, score=(train=-881.576, test=-40687.156) total time=   0.4s\n",
      "[CV 3/5] END max_depth=34;, score=(train=-353.808, test=-41095.679) total time=   0.4s\n",
      "[CV 3/5] END max_depth=36;, score=(train=-135.372, test=-41590.781) total time=   0.4s\n",
      "[CV 3/5] END max_depth=38;, score=(train=-42.810, test=-41437.439) total time=   0.4s\n",
      "[CV 1/5] END max_depth=40;, score=(train=-42.253, test=-40413.939) total time=   0.4s\n",
      "[CV 1/5] END max_depth=42;, score=(train=-13.893, test=-40546.163) total time=   0.4s\n",
      "[CV 2/5] END max_depth=44;, score=(train=-0.123, test=-62960.775) total time=   0.4s\n",
      "[CV 2/5] END max_depth=46;, score=(train=-0.058, test=-63570.703) total time=   0.4s\n",
      "[CV 2/5] END max_depth=48;, score=(train=-0.024, test=-64068.223) total time=   0.4s\n",
      "[CV 5/5] END max_depth=1;, score=(train=-44711.096, test=-50976.978) total time=   0.1s\n",
      "[CV 2/5] END max_depth=3;, score=(train=-26872.100, test=-40720.524) total time=   0.1s\n",
      "[CV 4/5] END max_depth=5;, score=(train=-27220.729, test=-18845.702) total time=   0.2s\n",
      "[CV 5/5] END max_depth=7;, score=(train=-22661.117, test=-30552.798) total time=   0.2s\n",
      "[CV 4/5] END max_depth=9;, score=(train=-23793.436, test=-18188.264) total time=   0.3s\n",
      "[CV 3/5] END max_depth=11;, score=(train=-20660.292, test=-25847.145) total time=   0.3s\n",
      "[CV 4/5] END max_depth=13;, score=(train=-19626.524, test=-21352.250) total time=   0.3s\n",
      "[CV 4/5] END max_depth=15;, score=(train=-17441.616, test=-22452.984) total time=   0.3s\n",
      "[CV 5/5] END max_depth=17;, score=(train=-14052.916, test=-32237.924) total time=   0.3s\n",
      "[CV 5/5] END max_depth=19;, score=(train=-12581.626, test=-33097.458) total time=   0.4s\n",
      "[CV 5/5] END max_depth=21;, score=(train=-11006.874, test=-33546.922) total time=   0.4s\n",
      "[CV 4/5] END max_depth=23;, score=(train=-9606.645, test=-23971.770) total time=   0.4s\n",
      "[CV 4/5] END max_depth=25;, score=(train=-7290.995, test=-25412.997) total time=   0.4s\n",
      "[CV 4/5] END max_depth=27;, score=(train=-5037.041, test=-25693.586) total time=   0.4s\n",
      "[CV 2/5] END max_depth=29;, score=(train=-3473.024, test=-57583.434) total time=   0.4s\n",
      "[CV 2/5] END max_depth=31;, score=(train=-2264.000, test=-59896.909) total time=   0.4s\n",
      "[CV 2/5] END max_depth=33;, score=(train=-1282.081, test=-63617.841) total time=   0.4s\n",
      "[CV 2/5] END max_depth=35;, score=(train=-600.093, test=-63853.312) total time=   0.4s\n",
      "[CV 2/5] END max_depth=37;, score=(train=-285.053, test=-62607.111) total time=   0.4s\n",
      "[CV 2/5] END max_depth=39;, score=(train=-114.048, test=-62703.338) total time=   0.4s\n",
      "[CV 2/5] END max_depth=41;, score=(train=-31.000, test=-61056.324) total time=   0.4s\n",
      "[CV 2/5] END max_depth=43;, score=(train=-0.181, test=-63551.363) total time=   0.4s\n",
      "[CV 1/5] END max_depth=45;, score=(train=-1.098, test=-40697.540) total time=   0.4s\n",
      "[CV 2/5] END max_depth=47;, score=(train=-0.037, test=-63094.359) total time=   0.4s\n",
      "[CV 2/5] END max_depth=49;, score=(train=-0.015, test=-62905.944) total time=   0.4s\n",
      "[CV 3/5] END max_depth=2;, score=(train=-35740.695, test=-29050.593) total time=   0.1s\n",
      "[CV 5/5] END max_depth=4;, score=(train=-25244.855, test=-33273.625) total time=   0.2s\n",
      "[CV 5/5] END max_depth=6;, score=(train=-23366.043, test=-30874.631) total time=   0.2s\n",
      "[CV 5/5] END max_depth=8;, score=(train=-22039.193, test=-29456.557) total time=   0.2s\n",
      "[CV 4/5] END max_depth=10;, score=(train=-22779.961, test=-19149.360) total time=   0.3s\n",
      "[CV 5/5] END max_depth=12;, score=(train=-18744.720, test=-29744.739) total time=   0.3s\n",
      "[CV 4/5] END max_depth=14;, score=(train=-18559.004, test=-21666.304) total time=   0.3s\n",
      "[CV 4/5] END max_depth=16;, score=(train=-16438.044, test=-22247.094) total time=   0.3s\n",
      "[CV 4/5] END max_depth=18;, score=(train=-14424.791, test=-23209.170) total time=   0.4s\n",
      "[CV 1/5] END max_depth=21;, score=(train=-8230.233, test=-32054.494) total time=   0.4s\n",
      "[CV 2/5] END max_depth=23;, score=(train=-8266.225, test=-53082.595) total time=   0.4s\n",
      "[CV 2/5] END max_depth=25;, score=(train=-6522.392, test=-55131.158) total time=   0.4s\n",
      "[CV 2/5] END max_depth=27;, score=(train=-4987.584, test=-58449.662) total time=   0.4s\n",
      "[CV 3/5] END max_depth=29;, score=(train=-2092.782, test=-39673.569) total time=   0.4s\n",
      "[CV 3/5] END max_depth=31;, score=(train=-1209.881, test=-40106.126) total time=   0.4s\n",
      "[CV 3/5] END max_depth=33;, score=(train=-573.108, test=-41512.598) total time=   0.5s\n",
      "[CV 4/5] END max_depth=35;, score=(train=-220.960, test=-27844.191) total time=   0.5s\n",
      "[CV 4/5] END max_depth=37;, score=(train=-110.943, test=-27541.745) total time=   0.4s\n",
      "[CV 5/5] END max_depth=39;, score=(train=-91.928, test=-42435.453) total time=   0.4s\n",
      "[CV 5/5] END max_depth=41;, score=(train=-10.037, test=-42584.375) total time=   0.4s\n",
      "[CV 5/5] END max_depth=43;, score=(train=-0.729, test=-42311.906) total time=   0.4s\n",
      "[CV 5/5] END max_depth=45;, score=(train=-0.378, test=-42641.051) total time=   0.4s\n",
      "[CV 5/5] END max_depth=47;, score=(train=-0.189, test=-43057.814) total time=   0.4s\n"
     ]
    },
    {
     "name": "stdout",
     "output_type": "stream",
     "text": [
      "[CV 2/5] END max_depth=1;, score=(train=-42714.739, test=-59190.456) total time=   0.1s\n",
      "[CV 3/5] END max_depth=3;, score=(train=-30680.020, test=-25001.569) total time=   0.1s\n",
      "[CV 2/5] END max_depth=5;, score=(train=-23077.859, test=-35529.474) total time=   0.2s\n",
      "[CV 1/5] END max_depth=7;, score=(train=-24414.251, test=-22434.027) total time=   0.2s\n",
      "[CV 1/5] END max_depth=9;, score=(train=-22849.023, test=-22574.635) total time=   0.2s\n",
      "[CV 2/5] END max_depth=11;, score=(train=-18191.867, test=-37062.770) total time=   0.3s\n",
      "[CV 1/5] END max_depth=13;, score=(train=-18512.684, test=-25490.710) total time=   0.3s\n",
      "[CV 5/5] END max_depth=14;, score=(train=-16895.076, test=-30669.813) total time=   0.3s\n",
      "[CV 2/5] END max_depth=17;, score=(train=-13530.410, test=-41299.241) total time=   0.3s\n",
      "[CV 1/5] END max_depth=19;, score=(train=-10634.878, test=-30091.520) total time=   0.3s\n",
      "[CV 5/5] END max_depth=20;, score=(train=-11830.951, test=-33582.893) total time=   0.4s\n",
      "[CV 1/5] END max_depth=23;, score=(train=-5981.048, test=-34918.714) total time=   0.4s\n",
      "[CV 1/5] END max_depth=25;, score=(train=-4144.458, test=-36800.271) total time=   0.4s\n",
      "[CV 4/5] END max_depth=26;, score=(train=-6157.512, test=-25695.701) total time=   0.4s\n",
      "[CV 5/5] END max_depth=28;, score=(train=-4940.888, test=-37547.062) total time=   0.4s\n",
      "[CV 5/5] END max_depth=30;, score=(train=-3152.400, test=-38132.173) total time=   0.4s\n",
      "[CV 5/5] END max_depth=32;, score=(train=-1739.649, test=-40633.198) total time=   0.4s\n",
      "[CV 5/5] END max_depth=34;, score=(train=-718.663, test=-41021.658) total time=   0.4s\n",
      "[CV 5/5] END max_depth=36;, score=(train=-332.471, test=-42630.787) total time=   0.4s\n",
      "[CV 4/5] END max_depth=38;, score=(train=-67.214, test=-27559.864) total time=   0.4s\n",
      "[CV 2/5] END max_depth=40;, score=(train=-71.464, test=-63016.386) total time=   0.4s\n",
      "[CV 5/5] END max_depth=42;, score=(train=-4.785, test=-42145.349) total time=   0.5s\n",
      "[CV 5/5] END max_depth=44;, score=(train=-0.463, test=-41980.978) total time=   0.4s\n",
      "[CV 5/5] END max_depth=46;, score=(train=-0.283, test=-42393.368) total time=   0.4s\n",
      "[CV 5/5] END max_depth=48;, score=(train=-0.150, test=-41650.320) total time=   0.4s\n",
      "[CV 5/5] END max_depth=2;, score=(train=-32325.916, test=-42888.850) total time=   0.1s\n",
      "[CV 3/5] END max_depth=4;, score=(train=-27881.256, test=-22432.710) total time=   0.2s\n",
      "[CV 1/5] END max_depth=6;, score=(train=-25338.391, test=-22623.159) total time=   0.2s\n",
      "[CV 1/5] END max_depth=8;, score=(train=-23668.335, test=-21764.897) total time=   0.2s\n",
      "[CV 5/5] END max_depth=10;, score=(train=-20462.039, test=-29189.895) total time=   0.3s\n",
      "[CV 5/5] END max_depth=11;, score=(train=-19641.148, test=-28928.487) total time=   0.3s\n",
      "[CV 1/5] END max_depth=14;, score=(train=-17267.371, test=-26716.428) total time=   0.3s\n",
      "[CV 1/5] END max_depth=16;, score=(train=-14626.933, test=-27485.988) total time=   0.3s\n",
      "[CV 1/5] END max_depth=18;, score=(train=-11956.852, test=-28627.422) total time=   0.3s\n",
      "[CV 3/5] END max_depth=20;, score=(train=-10382.018, test=-33288.687) total time=   0.3s\n",
      "[CV 3/5] END max_depth=22;, score=(train=-8271.769, test=-34214.196) total time=   0.4s\n",
      "[CV 3/5] END max_depth=24;, score=(train=-6087.523, test=-36292.485) total time=   0.4s\n",
      "[CV 2/5] END max_depth=26;, score=(train=-5705.046, test=-56905.384) total time=   0.4s\n",
      "[CV 2/5] END max_depth=28;, score=(train=-4211.258, test=-58273.615) total time=   0.4s\n",
      "[CV 2/5] END max_depth=30;, score=(train=-2823.134, test=-59834.351) total time=   0.4s\n",
      "[CV 2/5] END max_depth=32;, score=(train=-1762.188, test=-60807.913) total time=   0.4s\n",
      "[CV 1/5] END max_depth=34;, score=(train=-225.963, test=-40611.169) total time=   0.4s\n",
      "[CV 2/5] END max_depth=36;, score=(train=-451.413, test=-62705.594) total time=   0.4s\n",
      "[CV 5/5] END max_depth=37;, score=(train=-196.158, test=-42282.844) total time=   0.4s\n",
      "[CV 4/5] END max_depth=39;, score=(train=-28.046, test=-27758.161) total time=   0.4s\n",
      "[CV 4/5] END max_depth=41;, score=(train=-3.971, test=-27422.125) total time=   0.4s\n",
      "[CV 3/5] END max_depth=43;, score=(train=-0.321, test=-40725.827) total time=   0.4s\n",
      "[CV 3/5] END max_depth=45;, score=(train=-0.121, test=-41228.780) total time=   0.4s\n",
      "[CV 3/5] END max_depth=47;, score=(train=-0.064, test=-41435.251) total time=   0.4s\n",
      "[CV 3/5] END max_depth=49;, score=(train=-0.030, test=-41472.913) total time=   0.4s\n",
      "[CV 1/5] END max_depth=2;, score=(train=-35760.040, test=-28828.037) total time=   0.1s\n",
      "[CV 1/5] END max_depth=4;, score=(train=-27453.624, test=-24017.464) total time=   0.2s\n",
      "[CV 2/5] END max_depth=6;, score=(train=-22179.309, test=-34986.300) total time=   0.2s\n",
      "[CV 3/5] END max_depth=8;, score=(train=-23378.655, test=-23473.896) total time=   0.2s\n",
      "[CV 2/5] END max_depth=10;, score=(train=-18942.849, test=-36605.299) total time=   0.3s\n",
      "[CV 3/5] END max_depth=12;, score=(train=-19583.170, test=-26645.932) total time=   0.3s\n",
      "[CV 3/5] END max_depth=14;, score=(train=-17248.045, test=-29212.647) total time=   0.3s\n",
      "[CV 3/5] END max_depth=16;, score=(train=-14873.790, test=-30198.132) total time=   0.4s\n",
      "[CV 3/5] END max_depth=18;, score=(train=-12681.832, test=-31944.081) total time=   0.3s\n",
      "[CV 1/5] END max_depth=20;, score=(train=-9388.342, test=-31533.659) total time=   0.3s\n",
      "[CV 1/5] END max_depth=22;, score=(train=-7087.459, test=-33299.862) total time=   0.4s\n",
      "[CV 1/5] END max_depth=24;, score=(train=-5062.133, test=-35296.580) total time=   0.4s\n",
      "[CV 1/5] END max_depth=26;, score=(train=-3326.025, test=-37388.383) total time=   0.4s\n",
      "[CV 1/5] END max_depth=28;, score=(train=-1843.268, test=-38142.079) total time=   0.4s\n",
      "[CV 1/5] END max_depth=30;, score=(train=-1131.267, test=-39331.149) total time=   0.4s\n",
      "[CV 1/5] END max_depth=32;, score=(train=-571.104, test=-40384.684) total time=   0.5s\n",
      "[CV 2/5] END max_depth=34;, score=(train=-946.674, test=-61292.130) total time=   0.4s\n",
      "[CV 1/5] END max_depth=36;, score=(train=-117.339, test=-40157.678) total time=   0.4s\n",
      "[CV 2/5] END max_depth=38;, score=(train=-207.013, test=-64325.602) total time=   0.4s\n",
      "[CV 3/5] END max_depth=40;, score=(train=-3.737, test=-40832.465) total time=   0.5s\n",
      "[CV 3/5] END max_depth=42;, score=(train=-0.951, test=-41165.274) total time=   0.4s\n",
      "[CV 3/5] END max_depth=44;, score=(train=-0.181, test=-41362.987) total time=   0.4s\n",
      "[CV 3/5] END max_depth=46;, score=(train=-0.088, test=-40689.656) total time=   0.4s\n",
      "[CV 3/5] END max_depth=48;, score=(train=-0.044, test=-41055.593) total time=   0.4s\n",
      "[CV 2/5] END max_depth=2;, score=(train=-31496.458, test=-46133.321) total time=   0.1s\n",
      "[CV 2/5] END max_depth=4;, score=(train=-24254.827, test=-36908.512) total time=   0.2s\n",
      "[CV 3/5] END max_depth=6;, score=(train=-25401.443, test=-22101.782) total time=   0.2s\n",
      "[CV 4/5] END max_depth=8;, score=(train=-24645.215, test=-18285.789) total time=   0.2s\n",
      "[CV 3/5] END max_depth=10;, score=(train=-21602.992, test=-25086.905) total time=   0.3s\n",
      "[CV 4/5] END max_depth=12;, score=(train=-20771.018, test=-20521.120) total time=   0.3s\n",
      "[CV 2/5] END max_depth=15;, score=(train=-15114.869, test=-39614.380) total time=   0.3s\n",
      "[CV 5/5] END max_depth=16;, score=(train=-14922.257, test=-31620.253) total time=   0.3s\n",
      "[CV 5/5] END max_depth=18;, score=(train=-13320.942, test=-32694.951) total time=   0.3s\n",
      "[CV 4/5] END max_depth=20;, score=(train=-12550.149, test=-22899.145) total time=   0.3s\n",
      "[CV 4/5] END max_depth=22;, score=(train=-10688.958, test=-23313.187) total time=   0.4s\n",
      "[CV 4/5] END max_depth=24;, score=(train=-8535.450, test=-24269.286) total time=   0.5s\n",
      "[CV 1/5] END max_depth=27;, score=(train=-2563.477, test=-37777.218) total time=   0.4s\n",
      "[CV 4/5] END max_depth=28;, score=(train=-4043.365, test=-26769.099) total time=   0.4s\n",
      "[CV 4/5] END max_depth=30;, score=(train=-2193.199, test=-27040.134) total time=   0.4s\n",
      "[CV 4/5] END max_depth=32;, score=(train=-960.451, test=-27959.508) total time=   0.4s\n",
      "[CV 4/5] END max_depth=34;, score=(train=-368.174, test=-27543.334) total time=   0.4s\n",
      "[CV 4/5] END max_depth=36;, score=(train=-139.101, test=-27404.375) total time=   0.4s\n",
      "[CV 5/5] END max_depth=38;, score=(train=-154.603, test=-42168.349) total time=   0.4s\n",
      "[CV 4/5] END max_depth=40;, score=(train=-17.351, test=-27114.443) total time=   0.4s\n",
      "[CV 2/5] END max_depth=42;, score=(train=-0.337, test=-63771.897) total time=   0.4s\n",
      "[CV 1/5] END max_depth=44;, score=(train=-2.328, test=-40891.234) total time=   0.4s\n",
      "[CV 1/5] END max_depth=46;, score=(train=-0.587, test=-41038.944) total time=   0.4s\n",
      "[CV 1/5] END max_depth=48;, score=(train=-0.057, test=-40546.036) total time=   0.4s\n",
      "[CV 5/5] END max_depth=49;, score=(train=-0.124, test=-42106.286) total time=   0.4s\n"
     ]
    },
    {
     "name": "stdout",
     "output_type": "stream",
     "text": [
      "[CV 4/5] END max_depth=1;, score=(train=-47547.416, test=-39606.826) total time=   0.1s\n",
      "[CV 5/5] END max_depth=3;, score=(train=-28121.831, test=-35668.747) total time=   0.1s\n",
      "[CV 3/5] END max_depth=5;, score=(train=-26555.329, test=-21386.035) total time=   0.2s\n",
      "[CV 3/5] END max_depth=7;, score=(train=-24419.804, test=-22348.043) total time=   0.2s\n",
      "[CV 3/5] END max_depth=9;, score=(train=-22520.695, test=-23673.798) total time=   0.3s\n",
      "[CV 4/5] END max_depth=11;, score=(train=-21817.557, test=-19642.666) total time=   0.3s\n",
      "[CV 3/5] END max_depth=13;, score=(train=-18445.683, test=-27510.873) total time=   0.3s\n",
      "[CV 3/5] END max_depth=15;, score=(train=-15991.067, test=-29572.657) total time=   0.3s\n",
      "[CV 3/5] END max_depth=17;, score=(train=-13738.876, test=-30674.080) total time=   0.3s\n",
      "[CV 3/5] END max_depth=19;, score=(train=-11514.083, test=-32930.212) total time=   0.3s\n",
      "[CV 3/5] END max_depth=21;, score=(train=-9247.753, test=-34216.315) total time=   0.4s\n",
      "[CV 3/5] END max_depth=23;, score=(train=-7094.842, test=-35258.909) total time=   0.4s\n",
      "[CV 3/5] END max_depth=25;, score=(train=-5087.538, test=-36838.375) total time=   0.4s\n",
      "[CV 3/5] END max_depth=27;, score=(train=-3505.216, test=-38424.075) total time=   0.4s\n",
      "[CV 1/5] END max_depth=29;, score=(train=-1394.507, test=-38856.449) total time=   0.4s\n",
      "[CV 1/5] END max_depth=31;, score=(train=-799.072, test=-38574.462) total time=   0.4s\n",
      "[CV 1/5] END max_depth=33;, score=(train=-375.283, test=-39663.274) total time=   0.4s\n",
      "[CV 1/5] END max_depth=35;, score=(train=-151.279, test=-40490.778) total time=   0.4s\n",
      "[CV 1/5] END max_depth=37;, score=(train=-72.145, test=-40588.747) total time=   0.4s\n",
      "[CV 1/5] END max_depth=39;, score=(train=-50.892, test=-40384.274) total time=   0.4s\n",
      "[CV 1/5] END max_depth=41;, score=(train=-29.051, test=-41543.948) total time=   0.4s\n",
      "[CV 1/5] END max_depth=43;, score=(train=-5.859, test=-40540.878) total time=   0.4s\n",
      "[CV 2/5] END max_depth=45;, score=(train=-0.086, test=-63982.248) total time=   0.4s\n",
      "[CV 1/5] END max_depth=47;, score=(train=-0.213, test=-40256.383) total time=   0.4s\n",
      "[CV 4/5] END max_depth=48;, score=(train=-0.077, test=-27429.858) total time=   0.4s\n",
      "[CV 3/5] END max_depth=1;, score=(train=-46813.175, test=-42488.065) total time=   0.1s\n",
      "[CV 4/5] END max_depth=3;, score=(train=-31580.507, test=-21455.545) total time=   0.1s\n",
      "[CV 5/5] END max_depth=5;, score=(train=-24062.386, test=-31728.616) total time=   0.2s\n",
      "[CV 4/5] END max_depth=7;, score=(train=-25417.254, test=-17899.390) total time=   0.3s\n",
      "[CV 5/5] END max_depth=9;, score=(train=-21297.678, test=-29759.491) total time=   0.3s\n",
      "[CV 1/5] END max_depth=12;, score=(train=-19788.217, test=-24638.181) total time=   0.3s\n",
      "[CV 5/5] END max_depth=13;, score=(train=-17786.319, test=-30244.061) total time=   0.3s\n",
      "[CV 5/5] END max_depth=15;, score=(train=-15856.905, test=-31215.127) total time=   0.3s\n",
      "[CV 4/5] END max_depth=17;, score=(train=-15364.148, test=-22733.555) total time=   0.3s\n",
      "[CV 4/5] END max_depth=19;, score=(train=-13548.606, test=-22830.763) total time=   0.3s\n",
      "[CV 4/5] END max_depth=21;, score=(train=-11574.251, test=-23635.656) total time=   0.4s\n",
      "[CV 5/5] END max_depth=23;, score=(train=-9595.401, test=-34190.616) total time=   0.3s\n",
      "[CV 5/5] END max_depth=25;, score=(train=-7989.480, test=-36023.345) total time=   0.4s\n",
      "[CV 5/5] END max_depth=27;, score=(train=-5998.683, test=-36684.855) total time=   0.4s\n",
      "[CV 4/5] END max_depth=29;, score=(train=-3023.400, test=-26542.847) total time=   0.4s\n",
      "[CV 5/5] END max_depth=31;, score=(train=-2355.467, test=-39657.528) total time=   0.4s\n",
      "[CV 5/5] END max_depth=33;, score=(train=-1169.715, test=-41098.805) total time=   0.5s\n",
      "[CV 3/5] END max_depth=35;, score=(train=-218.134, test=-41058.297) total time=   0.4s\n",
      "[CV 3/5] END max_depth=37;, score=(train=-80.786, test=-40858.875) total time=   0.4s\n",
      "[CV 3/5] END max_depth=39;, score=(train=-15.494, test=-41444.504) total time=   0.4s\n",
      "[CV 3/5] END max_depth=41;, score=(train=-1.763, test=-40853.082) total time=   0.4s\n",
      "[CV 4/5] END max_depth=43;, score=(train=-1.688, test=-27643.697) total time=   0.4s\n",
      "[CV 4/5] END max_depth=45;, score=(train=-0.517, test=-27113.876) total time=   0.4s\n",
      "[CV 4/5] END max_depth=47;, score=(train=-0.153, test=-27902.472) total time=   0.4s\n",
      "[CV 4/5] END max_depth=49;, score=(train=-0.052, test=-27617.927) total time=   0.4s\n"
     ]
    }
   ],
   "source": [
    "model_results_df = pd.DataFrame([mae_results, rmse_results]).T\n",
    "model_results_df.columns = [\"MAE\", \"RMSE\"]\n",
    "model_results_df.sort_values(by='MAE', ascending=True)"
   ]
  },
  {
   "cell_type": "code",
   "execution_count": null,
   "id": "452ccc90",
   "metadata": {},
   "outputs": [],
   "source": []
  }
 ],
 "metadata": {
  "kernelspec": {
   "display_name": "Python 3",
   "language": "python",
   "name": "python3"
  },
  "language_info": {
   "codemirror_mode": {
    "name": "ipython",
    "version": 3
   },
   "file_extension": ".py",
   "mimetype": "text/x-python",
   "name": "python",
   "nbconvert_exporter": "python",
   "pygments_lexer": "ipython3",
   "version": "3.8.8"
  }
 },
 "nbformat": 4,
 "nbformat_minor": 5
}
