{
 "cells": [
  {
   "cell_type": "code",
   "execution_count": 1,
   "id": "3a90931d-d1f6-49d9-b8a4-d9d64d6d4876",
   "metadata": {},
   "outputs": [],
   "source": [
    "# Imports"
   ]
  },
  {
   "cell_type": "code",
   "execution_count": 2,
   "id": "321046f9-4fab-4826-88fe-e69ca6bbd417",
   "metadata": {},
   "outputs": [
    {
     "data": {
      "text/plain": [
       "'C:\\\\Users\\\\slin2\\\\Documents\\\\GitHub\\\\power_production_w207_final_project_2022'"
      ]
     },
     "execution_count": 2,
     "metadata": {},
     "output_type": "execute_result"
    }
   ],
   "source": [
    "# General\n",
    "import pandas as pd\n",
    "import numpy as np\n",
    "import matplotlib.pyplot as plt\n",
    "import seaborn as sns\n",
    "# import graphviz\n",
    "import time\n",
    "import os\n",
    "os.chdir('..')\n",
    "os.getcwd()"
   ]
  },
  {
   "cell_type": "code",
   "execution_count": 3,
   "id": "73d6897e-4296-46c0-9909-38982b8bea10",
   "metadata": {},
   "outputs": [],
   "source": [
    "from utils.utilities import load_train_test_data"
   ]
  },
  {
   "cell_type": "code",
   "execution_count": 4,
   "id": "5deab16c-0f02-4198-b835-7d18bdb6f4d8",
   "metadata": {},
   "outputs": [
    {
     "data": {
      "text/plain": [
       "'C:\\\\Users\\\\slin2\\\\Documents\\\\GitHub\\\\power_production_w207_final_project_2022'"
      ]
     },
     "execution_count": 4,
     "metadata": {},
     "output_type": "execute_result"
    }
   ],
   "source": [
    "# Load data\n",
    "os.getcwd()"
   ]
  },
  {
   "cell_type": "code",
   "execution_count": 5,
   "id": "c83ae81a-d11a-40fe-9d83-ceff4c2e79c5",
   "metadata": {},
   "outputs": [],
   "source": [
    "# Load data\n",
    "train_df, test_df = load_train_test_data()\n",
    "\n",
    "mae_results = {}\n",
    "rmse_results = {}"
   ]
  },
  {
   "cell_type": "code",
   "execution_count": 15,
   "id": "85a8a8ac-6abe-4386-97f4-98374bf01377",
   "metadata": {},
   "outputs": [
    {
     "data": {
      "text/html": [
       "<div>\n",
       "<style scoped>\n",
       "    .dataframe tbody tr th:only-of-type {\n",
       "        vertical-align: middle;\n",
       "    }\n",
       "\n",
       "    .dataframe tbody tr th {\n",
       "        vertical-align: top;\n",
       "    }\n",
       "\n",
       "    .dataframe thead th {\n",
       "        text-align: right;\n",
       "    }\n",
       "</style>\n",
       "<table border=\"1\" class=\"dataframe\">\n",
       "  <thead>\n",
       "    <tr style=\"text-align: right;\">\n",
       "      <th></th>\n",
       "      <th>DATE_TIME</th>\n",
       "      <th>PLANT_ID</th>\n",
       "      <th>SOURCE_KEY</th>\n",
       "      <th>DC_POWER</th>\n",
       "      <th>AC_POWER</th>\n",
       "      <th>DAILY_YIELD</th>\n",
       "      <th>TOTAL_YIELD</th>\n",
       "      <th>AMBIENT_TEMPERATURE</th>\n",
       "      <th>MODULE_TEMPERATURE</th>\n",
       "      <th>IRRADIATION</th>\n",
       "      <th>WEATHER_SOURCE</th>\n",
       "      <th>DATE</th>\n",
       "      <th>TIME</th>\n",
       "      <th>is_daytime</th>\n",
       "      <th>yesterday_max_daily_yield</th>\n",
       "      <th>HOUR</th>\n",
       "      <th>AC_POWER_dayof</th>\n",
       "      <th>AC_POWER_daybefore</th>\n",
       "    </tr>\n",
       "  </thead>\n",
       "  <tbody>\n",
       "    <tr>\n",
       "      <th>0</th>\n",
       "      <td>2020-05-16 01:45:00</td>\n",
       "      <td>4136001</td>\n",
       "      <td>LlT2YUhhzqhg5Sw</td>\n",
       "      <td>0.000000</td>\n",
       "      <td>0.000000</td>\n",
       "      <td>0.000000</td>\n",
       "      <td>2.826020e+08</td>\n",
       "      <td>25.954583</td>\n",
       "      <td>23.974197</td>\n",
       "      <td>0.000000</td>\n",
       "      <td>iq8k7ZNt4Mwm3w0</td>\n",
       "      <td>2020-05-16</td>\n",
       "      <td>01:45:00</td>\n",
       "      <td>0</td>\n",
       "      <td>9234.0</td>\n",
       "      <td>1</td>\n",
       "      <td>NaN</td>\n",
       "      <td>NaN</td>\n",
       "    </tr>\n",
       "    <tr>\n",
       "      <th>1</th>\n",
       "      <td>2020-05-16 15:30:00</td>\n",
       "      <td>4136001</td>\n",
       "      <td>NgDl19wMapZy17u</td>\n",
       "      <td>582.106667</td>\n",
       "      <td>570.446667</td>\n",
       "      <td>7294.266667</td>\n",
       "      <td>1.115294e+08</td>\n",
       "      <td>34.537255</td>\n",
       "      <td>42.353539</td>\n",
       "      <td>0.393412</td>\n",
       "      <td>iq8k7ZNt4Mwm3w0</td>\n",
       "      <td>2020-05-16</td>\n",
       "      <td>15:30:00</td>\n",
       "      <td>1</td>\n",
       "      <td>9475.0</td>\n",
       "      <td>15</td>\n",
       "      <td>NaN</td>\n",
       "      <td>NaN</td>\n",
       "    </tr>\n",
       "    <tr>\n",
       "      <th>2</th>\n",
       "      <td>2020-05-16 15:30:00</td>\n",
       "      <td>4136001</td>\n",
       "      <td>Mx2yZCDsyf6DPfv</td>\n",
       "      <td>597.557143</td>\n",
       "      <td>585.471429</td>\n",
       "      <td>5334.571429</td>\n",
       "      <td>2.466781e+06</td>\n",
       "      <td>34.537255</td>\n",
       "      <td>42.353539</td>\n",
       "      <td>0.393412</td>\n",
       "      <td>iq8k7ZNt4Mwm3w0</td>\n",
       "      <td>2020-05-16</td>\n",
       "      <td>15:30:00</td>\n",
       "      <td>1</td>\n",
       "      <td>7800.0</td>\n",
       "      <td>15</td>\n",
       "      <td>NaN</td>\n",
       "      <td>NaN</td>\n",
       "    </tr>\n",
       "    <tr>\n",
       "      <th>3</th>\n",
       "      <td>2020-05-16 15:30:00</td>\n",
       "      <td>4136001</td>\n",
       "      <td>LlT2YUhhzqhg5Sw</td>\n",
       "      <td>547.846667</td>\n",
       "      <td>537.066667</td>\n",
       "      <td>7085.133333</td>\n",
       "      <td>2.826091e+08</td>\n",
       "      <td>34.537255</td>\n",
       "      <td>42.353539</td>\n",
       "      <td>0.393412</td>\n",
       "      <td>iq8k7ZNt4Mwm3w0</td>\n",
       "      <td>2020-05-16</td>\n",
       "      <td>15:30:00</td>\n",
       "      <td>1</td>\n",
       "      <td>9234.0</td>\n",
       "      <td>15</td>\n",
       "      <td>NaN</td>\n",
       "      <td>NaN</td>\n",
       "    </tr>\n",
       "    <tr>\n",
       "      <th>4</th>\n",
       "      <td>2020-05-16 15:30:00</td>\n",
       "      <td>4136001</td>\n",
       "      <td>LYwnQax7tkwH5Cb</td>\n",
       "      <td>559.340000</td>\n",
       "      <td>548.213333</td>\n",
       "      <td>2717.400000</td>\n",
       "      <td>1.794970e+09</td>\n",
       "      <td>34.537255</td>\n",
       "      <td>42.353539</td>\n",
       "      <td>0.393412</td>\n",
       "      <td>iq8k7ZNt4Mwm3w0</td>\n",
       "      <td>2020-05-16</td>\n",
       "      <td>15:30:00</td>\n",
       "      <td>1</td>\n",
       "      <td>8458.0</td>\n",
       "      <td>15</td>\n",
       "      <td>NaN</td>\n",
       "      <td>NaN</td>\n",
       "    </tr>\n",
       "  </tbody>\n",
       "</table>\n",
       "</div>"
      ],
      "text/plain": [
       "            DATE_TIME  PLANT_ID       SOURCE_KEY    DC_POWER    AC_POWER  \\\n",
       "0 2020-05-16 01:45:00   4136001  LlT2YUhhzqhg5Sw    0.000000    0.000000   \n",
       "1 2020-05-16 15:30:00   4136001  NgDl19wMapZy17u  582.106667  570.446667   \n",
       "2 2020-05-16 15:30:00   4136001  Mx2yZCDsyf6DPfv  597.557143  585.471429   \n",
       "3 2020-05-16 15:30:00   4136001  LlT2YUhhzqhg5Sw  547.846667  537.066667   \n",
       "4 2020-05-16 15:30:00   4136001  LYwnQax7tkwH5Cb  559.340000  548.213333   \n",
       "\n",
       "   DAILY_YIELD   TOTAL_YIELD  AMBIENT_TEMPERATURE  MODULE_TEMPERATURE  \\\n",
       "0     0.000000  2.826020e+08            25.954583           23.974197   \n",
       "1  7294.266667  1.115294e+08            34.537255           42.353539   \n",
       "2  5334.571429  2.466781e+06            34.537255           42.353539   \n",
       "3  7085.133333  2.826091e+08            34.537255           42.353539   \n",
       "4  2717.400000  1.794970e+09            34.537255           42.353539   \n",
       "\n",
       "   IRRADIATION   WEATHER_SOURCE        DATE      TIME  is_daytime  \\\n",
       "0     0.000000  iq8k7ZNt4Mwm3w0  2020-05-16  01:45:00           0   \n",
       "1     0.393412  iq8k7ZNt4Mwm3w0  2020-05-16  15:30:00           1   \n",
       "2     0.393412  iq8k7ZNt4Mwm3w0  2020-05-16  15:30:00           1   \n",
       "3     0.393412  iq8k7ZNt4Mwm3w0  2020-05-16  15:30:00           1   \n",
       "4     0.393412  iq8k7ZNt4Mwm3w0  2020-05-16  15:30:00           1   \n",
       "\n",
       "   yesterday_max_daily_yield  HOUR  AC_POWER_dayof  AC_POWER_daybefore  \n",
       "0                     9234.0     1             NaN                 NaN  \n",
       "1                     9475.0    15             NaN                 NaN  \n",
       "2                     7800.0    15             NaN                 NaN  \n",
       "3                     9234.0    15             NaN                 NaN  \n",
       "4                     8458.0    15             NaN                 NaN  "
      ]
     },
     "execution_count": 15,
     "metadata": {},
     "output_type": "execute_result"
    }
   ],
   "source": [
    "train_df.head()"
   ]
  },
  {
   "cell_type": "code",
   "execution_count": 7,
   "id": "e3736a44-a7d1-40eb-88a4-29059f0abe5b",
   "metadata": {},
   "outputs": [
    {
     "data": {
      "text/html": [
       "<div>\n",
       "<style scoped>\n",
       "    .dataframe tbody tr th:only-of-type {\n",
       "        vertical-align: middle;\n",
       "    }\n",
       "\n",
       "    .dataframe tbody tr th {\n",
       "        vertical-align: top;\n",
       "    }\n",
       "\n",
       "    .dataframe thead th {\n",
       "        text-align: right;\n",
       "    }\n",
       "</style>\n",
       "<table border=\"1\" class=\"dataframe\">\n",
       "  <thead>\n",
       "    <tr style=\"text-align: right;\">\n",
       "      <th></th>\n",
       "      <th>DATE_TIME</th>\n",
       "      <th>PLANT_ID</th>\n",
       "      <th>SOURCE_KEY</th>\n",
       "      <th>DC_POWER</th>\n",
       "      <th>AC_POWER</th>\n",
       "      <th>DAILY_YIELD</th>\n",
       "      <th>TOTAL_YIELD</th>\n",
       "      <th>AMBIENT_TEMPERATURE</th>\n",
       "      <th>MODULE_TEMPERATURE</th>\n",
       "      <th>IRRADIATION</th>\n",
       "      <th>WEATHER_SOURCE</th>\n",
       "      <th>DATE</th>\n",
       "      <th>TIME</th>\n",
       "      <th>is_daytime</th>\n",
       "      <th>yesterday_max_daily_yield</th>\n",
       "      <th>HOUR</th>\n",
       "      <th>AC_POWER_dayof</th>\n",
       "      <th>YDAY_DATE</th>\n",
       "      <th>AC_POWER_daybefore</th>\n",
       "    </tr>\n",
       "  </thead>\n",
       "  <tbody>\n",
       "    <tr>\n",
       "      <th>0</th>\n",
       "      <td>2020-06-12 02:30:00</td>\n",
       "      <td>4136001</td>\n",
       "      <td>LYwnQax7tkwH5Cb</td>\n",
       "      <td>0.000000</td>\n",
       "      <td>0.000000</td>\n",
       "      <td>3718.000000</td>\n",
       "      <td>1.795083e+09</td>\n",
       "      <td>22.610987</td>\n",
       "      <td>22.146187</td>\n",
       "      <td>0.00000</td>\n",
       "      <td>iq8k7ZNt4Mwm3w0</td>\n",
       "      <td>2020-06-12</td>\n",
       "      <td>02:30:00</td>\n",
       "      <td>0</td>\n",
       "      <td>3718.0</td>\n",
       "      <td>2</td>\n",
       "      <td>NaN</td>\n",
       "      <td>NaN</td>\n",
       "      <td>NaN</td>\n",
       "    </tr>\n",
       "    <tr>\n",
       "      <th>1</th>\n",
       "      <td>2020-06-12 23:45:00</td>\n",
       "      <td>4136001</td>\n",
       "      <td>xoJJ8DcxJEcupym</td>\n",
       "      <td>0.000000</td>\n",
       "      <td>0.000000</td>\n",
       "      <td>4788.000000</td>\n",
       "      <td>2.093055e+08</td>\n",
       "      <td>23.099230</td>\n",
       "      <td>22.757666</td>\n",
       "      <td>0.00000</td>\n",
       "      <td>iq8k7ZNt4Mwm3w0</td>\n",
       "      <td>2020-06-12</td>\n",
       "      <td>23:45:00</td>\n",
       "      <td>0</td>\n",
       "      <td>3971.0</td>\n",
       "      <td>23</td>\n",
       "      <td>NaN</td>\n",
       "      <td>NaN</td>\n",
       "      <td>NaN</td>\n",
       "    </tr>\n",
       "    <tr>\n",
       "      <th>2</th>\n",
       "      <td>2020-06-12 07:45:00</td>\n",
       "      <td>4136001</td>\n",
       "      <td>WcxssY2VbP4hApt</td>\n",
       "      <td>267.833333</td>\n",
       "      <td>262.780000</td>\n",
       "      <td>194.800000</td>\n",
       "      <td>1.818769e+08</td>\n",
       "      <td>24.554531</td>\n",
       "      <td>27.705916</td>\n",
       "      <td>0.17587</td>\n",
       "      <td>iq8k7ZNt4Mwm3w0</td>\n",
       "      <td>2020-06-12</td>\n",
       "      <td>07:45:00</td>\n",
       "      <td>1</td>\n",
       "      <td>3947.0</td>\n",
       "      <td>7</td>\n",
       "      <td>NaN</td>\n",
       "      <td>NaN</td>\n",
       "      <td>NaN</td>\n",
       "    </tr>\n",
       "    <tr>\n",
       "      <th>3</th>\n",
       "      <td>2020-06-12 07:45:00</td>\n",
       "      <td>4136001</td>\n",
       "      <td>mqwcsP2rE7J0TFp</td>\n",
       "      <td>284.813333</td>\n",
       "      <td>279.646667</td>\n",
       "      <td>201.533333</td>\n",
       "      <td>5.937824e+08</td>\n",
       "      <td>24.554531</td>\n",
       "      <td>27.705916</td>\n",
       "      <td>0.17587</td>\n",
       "      <td>iq8k7ZNt4Mwm3w0</td>\n",
       "      <td>2020-06-12</td>\n",
       "      <td>07:45:00</td>\n",
       "      <td>1</td>\n",
       "      <td>3877.0</td>\n",
       "      <td>7</td>\n",
       "      <td>NaN</td>\n",
       "      <td>NaN</td>\n",
       "      <td>NaN</td>\n",
       "    </tr>\n",
       "    <tr>\n",
       "      <th>4</th>\n",
       "      <td>2020-06-12 07:45:00</td>\n",
       "      <td>4136001</td>\n",
       "      <td>oZ35aAeoifZaQzV</td>\n",
       "      <td>262.600000</td>\n",
       "      <td>257.593333</td>\n",
       "      <td>195.866667</td>\n",
       "      <td>1.660165e+09</td>\n",
       "      <td>24.554531</td>\n",
       "      <td>27.705916</td>\n",
       "      <td>0.17587</td>\n",
       "      <td>iq8k7ZNt4Mwm3w0</td>\n",
       "      <td>2020-06-12</td>\n",
       "      <td>07:45:00</td>\n",
       "      <td>1</td>\n",
       "      <td>5585.0</td>\n",
       "      <td>7</td>\n",
       "      <td>NaN</td>\n",
       "      <td>NaN</td>\n",
       "      <td>NaN</td>\n",
       "    </tr>\n",
       "  </tbody>\n",
       "</table>\n",
       "</div>"
      ],
      "text/plain": [
       "            DATE_TIME  PLANT_ID       SOURCE_KEY    DC_POWER    AC_POWER  \\\n",
       "0 2020-06-12 02:30:00   4136001  LYwnQax7tkwH5Cb    0.000000    0.000000   \n",
       "1 2020-06-12 23:45:00   4136001  xoJJ8DcxJEcupym    0.000000    0.000000   \n",
       "2 2020-06-12 07:45:00   4136001  WcxssY2VbP4hApt  267.833333  262.780000   \n",
       "3 2020-06-12 07:45:00   4136001  mqwcsP2rE7J0TFp  284.813333  279.646667   \n",
       "4 2020-06-12 07:45:00   4136001  oZ35aAeoifZaQzV  262.600000  257.593333   \n",
       "\n",
       "   DAILY_YIELD   TOTAL_YIELD  AMBIENT_TEMPERATURE  MODULE_TEMPERATURE  \\\n",
       "0  3718.000000  1.795083e+09            22.610987           22.146187   \n",
       "1  4788.000000  2.093055e+08            23.099230           22.757666   \n",
       "2   194.800000  1.818769e+08            24.554531           27.705916   \n",
       "3   201.533333  5.937824e+08            24.554531           27.705916   \n",
       "4   195.866667  1.660165e+09            24.554531           27.705916   \n",
       "\n",
       "   IRRADIATION   WEATHER_SOURCE        DATE      TIME  is_daytime  \\\n",
       "0      0.00000  iq8k7ZNt4Mwm3w0  2020-06-12  02:30:00           0   \n",
       "1      0.00000  iq8k7ZNt4Mwm3w0  2020-06-12  23:45:00           0   \n",
       "2      0.17587  iq8k7ZNt4Mwm3w0  2020-06-12  07:45:00           1   \n",
       "3      0.17587  iq8k7ZNt4Mwm3w0  2020-06-12  07:45:00           1   \n",
       "4      0.17587  iq8k7ZNt4Mwm3w0  2020-06-12  07:45:00           1   \n",
       "\n",
       "   yesterday_max_daily_yield  HOUR  AC_POWER_dayof YDAY_DATE  \\\n",
       "0                     3718.0     2             NaN       NaN   \n",
       "1                     3971.0    23             NaN       NaN   \n",
       "2                     3947.0     7             NaN       NaN   \n",
       "3                     3877.0     7             NaN       NaN   \n",
       "4                     5585.0     7             NaN       NaN   \n",
       "\n",
       "   AC_POWER_daybefore  \n",
       "0                 NaN  \n",
       "1                 NaN  \n",
       "2                 NaN  \n",
       "3                 NaN  \n",
       "4                 NaN  "
      ]
     },
     "execution_count": 7,
     "metadata": {},
     "output_type": "execute_result"
    }
   ],
   "source": [
    "test_df.head()"
   ]
  },
  {
   "cell_type": "code",
   "execution_count": 8,
   "id": "5b4cf203-17d8-4f64-adf4-35b8dab97175",
   "metadata": {},
   "outputs": [
    {
     "name": "stderr",
     "output_type": "stream",
     "text": [
      "C:\\Users\\slin2\\AppData\\Roaming\\Python\\Python39\\site-packages\\statsmodels\\compat\\pandas.py:65: FutureWarning: pandas.Int64Index is deprecated and will be removed from pandas in a future version. Use pandas.Index with the appropriate dtype instead.\n",
      "  from pandas import Int64Index as NumericIndex\n"
     ]
    }
   ],
   "source": [
    "from statsmodels.tsa.holtwinters import SimpleExpSmoothing"
   ]
  },
  {
   "cell_type": "code",
   "execution_count": 25,
   "id": "abb9b9eb-dde9-4a75-a6a8-cd82cee3b9b9",
   "metadata": {},
   "outputs": [
    {
     "data": {
      "text/plain": [
       "[<matplotlib.lines.Line2D at 0x2d45e7e32e0>]"
      ]
     },
     "execution_count": 25,
     "metadata": {},
     "output_type": "execute_result"
    },
    {
     "data": {
      "image/png": "[encoded data removed]",
      "text/plain": [
       "<Figure size 432x288 with 1 Axes>"
      ]
     },
     "metadata": {
      "needs_background": "light"
     },
     "output_type": "display_data"
    }
   ],
   "source": [
    "# get plant 1 AC POWER data in order and plot it\n",
    "data = train_df[train_df['PLANT_ID'] == 4136001].set_index('DATE_TIME').sort_values(by='DATE_TIME')['AC_POWER']\n",
    "plt.plot(data)\n"
   ]
  },
  {
   "cell_type": "code",
   "execution_count": 28,
   "id": "e36d2e5d-27cc-4da5-b935-dfca22c93d61",
   "metadata": {},
   "outputs": [
    {
     "name": "stderr",
     "output_type": "stream",
     "text": [
      "C:\\Users\\slin2\\AppData\\Roaming\\Python\\Python39\\site-packages\\statsmodels\\tsa\\base\\tsa_model.py:593: ValueWarning: A date index has been provided, but it has no associated frequency information and so will be ignored when e.g. forecasting.\n",
      "  warnings.warn('A date index has been provided, but it has no'\n",
      "C:\\Users\\slin2\\AppData\\Roaming\\Python\\Python39\\site-packages\\statsmodels\\tsa\\holtwinters\\model.py:915: ConvergenceWarning: Optimization failed to converge. Check mle_retvals.\n",
      "  warnings.warn(\n"
     ]
    }
   ],
   "source": [
    "model = SimpleExpSmoothing(data)\n",
    "fit1 = model.fit()"
   ]
  },
  {
   "cell_type": "code",
   "execution_count": 29,
   "id": "2f019b84-9dfa-4268-bccc-b5c5b8499f7d",
   "metadata": {},
   "outputs": [
    {
     "name": "stderr",
     "output_type": "stream",
     "text": [
      "C:\\Users\\slin2\\AppData\\Roaming\\Python\\Python39\\site-packages\\statsmodels\\tsa\\base\\tsa_model.py:390: ValueWarning: No supported index is available. Prediction results will be given with an integer index beginning at `start`.\n",
      "  warnings.warn('No supported index is available.'\n"
     ]
    },
    {
     "data": {
      "text/plain": [
       "50940    130.549954\n",
       "50941    130.549954\n",
       "50942    130.549954\n",
       "50943    130.549954\n",
       "50944    130.549954\n",
       "50945    130.549954\n",
       "50946    130.549954\n",
       "50947    130.549954\n",
       "50948    130.549954\n",
       "dtype: float64"
      ]
     },
     "execution_count": 29,
     "metadata": {},
     "output_type": "execute_result"
    }
   ],
   "source": [
    "fit1.forecast(9)"
   ]
  }
 ],
 "metadata": {
  "kernelspec": {
   "display_name": "Python 3 (ipykernel)",
   "language": "python",
   "name": "python3"
  },
  "language_info": {
   "codemirror_mode": {
    "name": "ipython",
    "version": 3
   },
   "file_extension": ".py",
   "mimetype": "text/x-python",
   "name": "python",
   "nbconvert_exporter": "python",
   "pygments_lexer": "ipython3",
   "version": "3.9.12"
  }
 },
 "nbformat": 4,
 "nbformat_minor": 5
}
