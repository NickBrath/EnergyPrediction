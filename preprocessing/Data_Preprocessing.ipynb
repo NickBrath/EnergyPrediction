{
 "cells": [
  {
   "cell_type": "code",
   "execution_count": 2,
   "id": "b89fd0d6",
   "metadata": {},
   "outputs": [
    {
     "data": {
      "text/plain": [
       "'/Users/nicholasbrathwaite/DataW207_AppliedMachineLearning/w207-Final-Project'"
      ]
     },
     "execution_count": 2,
     "metadata": {},
     "output_type": "execute_result"
    }
   ],
   "source": [
    "import pandas as pd\n",
    "import numpy as np\n",
    "# from sklearn.model_selection import TimeSeriesSplit\n",
    "import os\n",
    "os.chdir('..') # to access the raw_data folder\n",
    "os.getcwd()"
   ]
  },
  {
   "cell_type": "code",
   "execution_count": 11,
   "id": "a2653535",
   "metadata": {},
   "outputs": [],
   "source": [
    "import datetime"
   ]
  },
  {
   "cell_type": "markdown",
   "id": "059cb421",
   "metadata": {},
   "source": [
    "### Setting env variables"
   ]
  },
  {
   "cell_type": "code",
   "execution_count": 12,
   "id": "20dfd3a1",
   "metadata": {},
   "outputs": [],
   "source": [
    "TRAIN_SPLIT = 0.8"
   ]
  },
  {
   "cell_type": "code",
   "execution_count": 13,
   "id": "ae7ff2e5",
   "metadata": {},
   "outputs": [],
   "source": [
    "\n",
    "plant_1_generation = pd.read_csv('power_production_w207_final_project_2022/raw_data/Plant_1_Generation_Data.csv') \n",
    "plant_1_weather_sensor = pd.read_csv('power_production_w207_final_project_2022/raw_data/Plant_1_Weather_Sensor_Data.csv') \n",
    "plant_2_generation = pd.read_csv('power_production_w207_final_project_2022/raw_data/Plant_2_Generation_Data.csv')\n",
    "plant_2_weather_sensor = pd.read_csv('power_production_w207_final_project_2022/raw_data/Plant_2_Weather_Sensor_Data.csv') "
   ]
  },
  {
   "cell_type": "code",
   "execution_count": 14,
   "id": "dbca0f02",
   "metadata": {},
   "outputs": [],
   "source": [
    "# print(min(plant_1_generation.DATE_TIME),max(plant_1_generation.DATE_TIME))\n",
    "plant_1_generation['DATE_TIME']= pd.to_datetime(plant_1_generation['DATE_TIME'],format='%d-%m-%Y %H:%M')\n",
    "# print(min(plant_1_generation.DATE_TIME),max(plant_1_generation.DATE_TIME))"
   ]
  },
  {
   "cell_type": "code",
   "execution_count": 15,
   "id": "b0909d0d",
   "metadata": {},
   "outputs": [],
   "source": [
    "plant_generation = pd.concat([plant_1_generation, plant_2_generation])\n",
    "weather_sensor = pd.concat([plant_1_weather_sensor, plant_2_weather_sensor])"
   ]
  },
  {
   "cell_type": "code",
   "execution_count": 16,
   "id": "8e6e8d2d",
   "metadata": {},
   "outputs": [],
   "source": [
    "weather_sensor['DATE_TIME'] = pd.to_datetime(weather_sensor['DATE_TIME']).dt.strftime('%Y-%m-%d %H:%M:%S')\n",
    "plant_generation['DATE_TIME'] = pd.to_datetime(plant_generation['DATE_TIME']).dt.strftime('%Y-%m-%d %H:%M:%S')"
   ]
  },
  {
   "cell_type": "code",
   "execution_count": 17,
   "id": "a60c6603",
   "metadata": {},
   "outputs": [],
   "source": [
    "# converts weather station data to time and plant\n",
    "weather_sensor['WEATHER_SOURCE'] = weather_sensor.SOURCE_KEY\n",
    "weather_sensor = weather_sensor.drop(columns='SOURCE_KEY')"
   ]
  },
  {
   "cell_type": "code",
   "execution_count": 18,
   "id": "0517cbc7",
   "metadata": {},
   "outputs": [],
   "source": [
    "plant_generation_weather_data = pd.merge(plant_generation, weather_sensor, how='left', on = \\\n",
    "                                         ['DATE_TIME', 'PLANT_ID'])"
   ]
  },
  {
   "cell_type": "code",
   "execution_count": 19,
   "id": "5ea1970b",
   "metadata": {},
   "outputs": [],
   "source": [
    "plant_generation_weather_data['DATE'] = pd.to_datetime(plant_generation_weather_data[\"DATE_TIME\"]).dt.date\n",
    "plant_generation_weather_data['TIME'] = pd.to_datetime(plant_generation_weather_data[\"DATE_TIME\"]).dt.time\n",
    "\n",
    "plant_generation_weather_data = plant_generation_weather_data.sort_values('DATE', ascending=True)"
   ]
  },
  {
   "cell_type": "code",
   "execution_count": 24,
   "id": "5a8b1983",
   "metadata": {},
   "outputs": [
    {
     "data": {
      "text/html": [
       "<div>\n",
       "<style scoped>\n",
       "    .dataframe tbody tr th:only-of-type {\n",
       "        vertical-align: middle;\n",
       "    }\n",
       "\n",
       "    .dataframe tbody tr th {\n",
       "        vertical-align: top;\n",
       "    }\n",
       "\n",
       "    .dataframe thead th {\n",
       "        text-align: right;\n",
       "    }\n",
       "</style>\n",
       "<table border=\"1\" class=\"dataframe\">\n",
       "  <thead>\n",
       "    <tr style=\"text-align: right;\">\n",
       "      <th></th>\n",
       "      <th>DATE_TIME</th>\n",
       "      <th>PLANT_ID</th>\n",
       "      <th>SOURCE_KEY</th>\n",
       "      <th>DC_POWER</th>\n",
       "      <th>AC_POWER</th>\n",
       "      <th>DAILY_YIELD</th>\n",
       "      <th>TOTAL_YIELD</th>\n",
       "      <th>AMBIENT_TEMPERATURE</th>\n",
       "      <th>MODULE_TEMPERATURE</th>\n",
       "      <th>IRRADIATION</th>\n",
       "      <th>WEATHER_SOURCE</th>\n",
       "      <th>DATE</th>\n",
       "      <th>TIME</th>\n",
       "    </tr>\n",
       "  </thead>\n",
       "  <tbody>\n",
       "    <tr>\n",
       "      <th>70179</th>\n",
       "      <td>2020-05-15 15:45:00</td>\n",
       "      <td>4136001</td>\n",
       "      <td>oZ35aAeoifZaQzV</td>\n",
       "      <td>782.357143</td>\n",
       "      <td>765.842857</td>\n",
       "      <td>6301.500000</td>\n",
       "      <td>1.659971e+09</td>\n",
       "      <td>36.755735</td>\n",
       "      <td>44.975190</td>\n",
       "      <td>0.505614</td>\n",
       "      <td>iq8k7ZNt4Mwm3w0</td>\n",
       "      <td>2020-05-15</td>\n",
       "      <td>15:45:00</td>\n",
       "    </tr>\n",
       "    <tr>\n",
       "      <th>70178</th>\n",
       "      <td>2020-05-15 15:45:00</td>\n",
       "      <td>4136001</td>\n",
       "      <td>mqwcsP2rE7J0TFp</td>\n",
       "      <td>739.653333</td>\n",
       "      <td>724.226667</td>\n",
       "      <td>8703.800000</td>\n",
       "      <td>5.935887e+08</td>\n",
       "      <td>36.755735</td>\n",
       "      <td>44.975190</td>\n",
       "      <td>0.505614</td>\n",
       "      <td>iq8k7ZNt4Mwm3w0</td>\n",
       "      <td>2020-05-15</td>\n",
       "      <td>15:45:00</td>\n",
       "    </tr>\n",
       "    <tr>\n",
       "      <th>70177</th>\n",
       "      <td>2020-05-15 15:45:00</td>\n",
       "      <td>4136001</td>\n",
       "      <td>WcxssY2VbP4hApt</td>\n",
       "      <td>770.320000</td>\n",
       "      <td>754.113333</td>\n",
       "      <td>8870.866667</td>\n",
       "      <td>1.817041e+08</td>\n",
       "      <td>36.755735</td>\n",
       "      <td>44.975190</td>\n",
       "      <td>0.505614</td>\n",
       "      <td>iq8k7ZNt4Mwm3w0</td>\n",
       "      <td>2020-05-15</td>\n",
       "      <td>15:45:00</td>\n",
       "    </tr>\n",
       "    <tr>\n",
       "      <th>70176</th>\n",
       "      <td>2020-05-15 15:45:00</td>\n",
       "      <td>4136001</td>\n",
       "      <td>V94E5Ben1TlhnDV</td>\n",
       "      <td>760.442857</td>\n",
       "      <td>744.478571</td>\n",
       "      <td>8618.285714</td>\n",
       "      <td>1.412092e+09</td>\n",
       "      <td>36.755735</td>\n",
       "      <td>44.975190</td>\n",
       "      <td>0.505614</td>\n",
       "      <td>iq8k7ZNt4Mwm3w0</td>\n",
       "      <td>2020-05-15</td>\n",
       "      <td>15:45:00</td>\n",
       "    </tr>\n",
       "    <tr>\n",
       "      <th>70175</th>\n",
       "      <td>2020-05-15 15:45:00</td>\n",
       "      <td>4136001</td>\n",
       "      <td>Quc1TzYxW2pYoWX</td>\n",
       "      <td>602.326667</td>\n",
       "      <td>590.186667</td>\n",
       "      <td>3627.066667</td>\n",
       "      <td>3.295127e+08</td>\n",
       "      <td>36.755735</td>\n",
       "      <td>44.975190</td>\n",
       "      <td>0.505614</td>\n",
       "      <td>iq8k7ZNt4Mwm3w0</td>\n",
       "      <td>2020-05-15</td>\n",
       "      <td>15:45:00</td>\n",
       "    </tr>\n",
       "    <tr>\n",
       "      <th>...</th>\n",
       "      <td>...</td>\n",
       "      <td>...</td>\n",
       "      <td>...</td>\n",
       "      <td>...</td>\n",
       "      <td>...</td>\n",
       "      <td>...</td>\n",
       "      <td>...</td>\n",
       "      <td>...</td>\n",
       "      <td>...</td>\n",
       "      <td>...</td>\n",
       "      <td>...</td>\n",
       "      <td>...</td>\n",
       "      <td>...</td>\n",
       "    </tr>\n",
       "    <tr>\n",
       "      <th>68106</th>\n",
       "      <td>2020-06-17 16:15:00</td>\n",
       "      <td>4135001</td>\n",
       "      <td>adLQvlD726eNBSB</td>\n",
       "      <td>4089.625000</td>\n",
       "      <td>401.350000</td>\n",
       "      <td>5830.125000</td>\n",
       "      <td>6.524228e+06</td>\n",
       "      <td>24.112787</td>\n",
       "      <td>28.996932</td>\n",
       "      <td>0.235078</td>\n",
       "      <td>HmiyD2TTLFNqkNe</td>\n",
       "      <td>2020-06-17</td>\n",
       "      <td>16:15:00</td>\n",
       "    </tr>\n",
       "    <tr>\n",
       "      <th>68107</th>\n",
       "      <td>2020-06-17 16:15:00</td>\n",
       "      <td>4135001</td>\n",
       "      <td>bvBOhCH3iADSZry</td>\n",
       "      <td>3411.285714</td>\n",
       "      <td>334.957143</td>\n",
       "      <td>5215.000000</td>\n",
       "      <td>6.538764e+06</td>\n",
       "      <td>24.112787</td>\n",
       "      <td>28.996932</td>\n",
       "      <td>0.235078</td>\n",
       "      <td>HmiyD2TTLFNqkNe</td>\n",
       "      <td>2020-06-17</td>\n",
       "      <td>16:15:00</td>\n",
       "    </tr>\n",
       "    <tr>\n",
       "      <th>68108</th>\n",
       "      <td>2020-06-17 16:15:00</td>\n",
       "      <td>4135001</td>\n",
       "      <td>iCRJl6heRkivqQ3</td>\n",
       "      <td>3519.285714</td>\n",
       "      <td>345.714286</td>\n",
       "      <td>5693.571429</td>\n",
       "      <td>7.426000e+06</td>\n",
       "      <td>24.112787</td>\n",
       "      <td>28.996932</td>\n",
       "      <td>0.235078</td>\n",
       "      <td>HmiyD2TTLFNqkNe</td>\n",
       "      <td>2020-06-17</td>\n",
       "      <td>16:15:00</td>\n",
       "    </tr>\n",
       "    <tr>\n",
       "      <th>68109</th>\n",
       "      <td>2020-06-17 16:15:00</td>\n",
       "      <td>4135001</td>\n",
       "      <td>ih0vzX44oOqAx2f</td>\n",
       "      <td>3507.142857</td>\n",
       "      <td>344.485714</td>\n",
       "      <td>5497.857143</td>\n",
       "      <td>6.425869e+06</td>\n",
       "      <td>24.112787</td>\n",
       "      <td>28.996932</td>\n",
       "      <td>0.235078</td>\n",
       "      <td>HmiyD2TTLFNqkNe</td>\n",
       "      <td>2020-06-17</td>\n",
       "      <td>16:15:00</td>\n",
       "    </tr>\n",
       "    <tr>\n",
       "      <th>68111</th>\n",
       "      <td>2020-06-17 16:15:00</td>\n",
       "      <td>4135001</td>\n",
       "      <td>rGa61gmuvPhdLxV</td>\n",
       "      <td>3605.285714</td>\n",
       "      <td>353.985714</td>\n",
       "      <td>5688.428571</td>\n",
       "      <td>7.356635e+06</td>\n",
       "      <td>24.112787</td>\n",
       "      <td>28.996932</td>\n",
       "      <td>0.235078</td>\n",
       "      <td>HmiyD2TTLFNqkNe</td>\n",
       "      <td>2020-06-17</td>\n",
       "      <td>16:15:00</td>\n",
       "    </tr>\n",
       "  </tbody>\n",
       "</table>\n",
       "<p>84227 rows × 13 columns</p>\n",
       "</div>"
      ],
      "text/plain": [
       "                 DATE_TIME  PLANT_ID       SOURCE_KEY     DC_POWER  \\\n",
       "70179  2020-05-15 15:45:00   4136001  oZ35aAeoifZaQzV   782.357143   \n",
       "70178  2020-05-15 15:45:00   4136001  mqwcsP2rE7J0TFp   739.653333   \n",
       "70177  2020-05-15 15:45:00   4136001  WcxssY2VbP4hApt   770.320000   \n",
       "70176  2020-05-15 15:45:00   4136001  V94E5Ben1TlhnDV   760.442857   \n",
       "70175  2020-05-15 15:45:00   4136001  Quc1TzYxW2pYoWX   602.326667   \n",
       "...                    ...       ...              ...          ...   \n",
       "68106  2020-06-17 16:15:00   4135001  adLQvlD726eNBSB  4089.625000   \n",
       "68107  2020-06-17 16:15:00   4135001  bvBOhCH3iADSZry  3411.285714   \n",
       "68108  2020-06-17 16:15:00   4135001  iCRJl6heRkivqQ3  3519.285714   \n",
       "68109  2020-06-17 16:15:00   4135001  ih0vzX44oOqAx2f  3507.142857   \n",
       "68111  2020-06-17 16:15:00   4135001  rGa61gmuvPhdLxV  3605.285714   \n",
       "\n",
       "         AC_POWER  DAILY_YIELD   TOTAL_YIELD  AMBIENT_TEMPERATURE  \\\n",
       "70179  765.842857  6301.500000  1.659971e+09            36.755735   \n",
       "70178  724.226667  8703.800000  5.935887e+08            36.755735   \n",
       "70177  754.113333  8870.866667  1.817041e+08            36.755735   \n",
       "70176  744.478571  8618.285714  1.412092e+09            36.755735   \n",
       "70175  590.186667  3627.066667  3.295127e+08            36.755735   \n",
       "...           ...          ...           ...                  ...   \n",
       "68106  401.350000  5830.125000  6.524228e+06            24.112787   \n",
       "68107  334.957143  5215.000000  6.538764e+06            24.112787   \n",
       "68108  345.714286  5693.571429  7.426000e+06            24.112787   \n",
       "68109  344.485714  5497.857143  6.425869e+06            24.112787   \n",
       "68111  353.985714  5688.428571  7.356635e+06            24.112787   \n",
       "\n",
       "       MODULE_TEMPERATURE  IRRADIATION   WEATHER_SOURCE        DATE      TIME  \n",
       "70179           44.975190     0.505614  iq8k7ZNt4Mwm3w0  2020-05-15  15:45:00  \n",
       "70178           44.975190     0.505614  iq8k7ZNt4Mwm3w0  2020-05-15  15:45:00  \n",
       "70177           44.975190     0.505614  iq8k7ZNt4Mwm3w0  2020-05-15  15:45:00  \n",
       "70176           44.975190     0.505614  iq8k7ZNt4Mwm3w0  2020-05-15  15:45:00  \n",
       "70175           44.975190     0.505614  iq8k7ZNt4Mwm3w0  2020-05-15  15:45:00  \n",
       "...                   ...          ...              ...         ...       ...  \n",
       "68106           28.996932     0.235078  HmiyD2TTLFNqkNe  2020-06-17  16:15:00  \n",
       "68107           28.996932     0.235078  HmiyD2TTLFNqkNe  2020-06-17  16:15:00  \n",
       "68108           28.996932     0.235078  HmiyD2TTLFNqkNe  2020-06-17  16:15:00  \n",
       "68109           28.996932     0.235078  HmiyD2TTLFNqkNe  2020-06-17  16:15:00  \n",
       "68111           28.996932     0.235078  HmiyD2TTLFNqkNe  2020-06-17  16:15:00  \n",
       "\n",
       "[84227 rows x 13 columns]"
      ]
     },
     "execution_count": 24,
     "metadata": {},
     "output_type": "execute_result"
    }
   ],
   "source": [
    "\n",
    "# plant_generation_weather_data[\"TIME\"] == \"05:00:00\"\n",
    "sunlight_hours = plant_generation_weather_data[(plant_generation_weather_data[\"TIME\"] > datetime.time(5,0)) & (plant_generation_weather_data[\"TIME\"] < datetime.time(20,0))]\n",
    "# plant_generation_weather_data[\"TIME\"].unique()                                        \n",
    "sunlight_hours\n"
   ]
  },
  {
   "cell_type": "markdown",
   "id": "13182180-af01-497f-ad68-bf84b57b4bde",
   "metadata": {},
   "source": [
    "### Scale Plant 1 DC power by a factor of 10"
   ]
  },
  {
   "cell_type": "code",
   "execution_count": 26,
   "id": "f197fb2d-8437-48d3-9f87-3fac9f9040ae",
   "metadata": {},
   "outputs": [
    {
     "name": "stderr",
     "output_type": "stream",
     "text": [
      "/Users/nicholasbrathwaite/opt/anaconda3/lib/python3.8/site-packages/pandas/core/indexing.py:1787: SettingWithCopyWarning: \n",
      "A value is trying to be set on a copy of a slice from a DataFrame.\n",
      "Try using .loc[row_indexer,col_indexer] = value instead\n",
      "\n",
      "See the caveats in the documentation: https://pandas.pydata.org/pandas-docs/stable/user_guide/indexing.html#returning-a-view-versus-a-copy\n",
      "  self._setitem_single_column(loc, val, pi)\n"
     ]
    }
   ],
   "source": [
    "indx = sunlight_hours['PLANT_ID'] == 4135001\n",
    "sunlight_hours.loc[indx,['DC_POWER']] = sunlight_hours.loc[indx,['DC_POWER']]/10"
   ]
  },
  {
   "cell_type": "markdown",
   "id": "fb70d8b6",
   "metadata": {},
   "source": [
    "### Initiate Train Test Split"
   ]
  },
  {
   "cell_type": "code",
   "execution_count": 27,
   "id": "511a6d29",
   "metadata": {},
   "outputs": [],
   "source": [
    "train_set, test_set= np.split(sunlight_hours, [int(TRAIN_SPLIT *len(sunlight_hours))])"
   ]
  },
  {
   "cell_type": "code",
<<<<<<< HEAD
   "execution_count": 29,
=======
   "execution_count": 14,
>>>>>>> main
   "id": "a0f1a1b9",
   "metadata": {},
   "outputs": [],
   "source": [
<<<<<<< HEAD
    "train_set.to_csv('power_production_w207_final_project_2022/processed_data/train_df.csv')  \n",
    "test_set.to_csv('power_production_w207_final_project_2022/processed_data/test_df.csv')  "
=======
    "train_set.to_csv('processed_data/train_preprocessing_df.csv')  \n",
    "test_set.to_csv('processed_data/test_preprocessing_df.csv')  "
>>>>>>> main
   ]
  },
  {
   "cell_type": "code",
   "execution_count": 13,
   "id": "87f26633",
   "metadata": {},
   "outputs": [],
   "source": [
    "# train_set.groupby('PLANT_ID').sum()"
   ]
  }
 ],
 "metadata": {
  "kernelspec": {
   "display_name": "Python 3",
   "language": "python",
   "name": "python3"
  },
  "language_info": {
   "codemirror_mode": {
    "name": "ipython",
    "version": 3
   },
   "file_extension": ".py",
   "mimetype": "text/x-python",
   "name": "python",
   "nbconvert_exporter": "python",
   "pygments_lexer": "ipython3",
   "version": "3.8.8"
  }
 },
 "nbformat": 4,
 "nbformat_minor": 5
}
